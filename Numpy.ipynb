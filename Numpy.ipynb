{
  "nbformat": 4,
  "nbformat_minor": 0,
  "metadata": {
    "colab": {
      "name": "Numpy.ipynb",
      "provenance": [],
      "collapsed_sections": [],
      "authorship_tag": "ABX9TyMvlKc6TUU+iO426aBnWjQX",
      "include_colab_link": true
    },
    "kernelspec": {
      "name": "python3",
      "display_name": "Python 3"
    },
    "language_info": {
      "name": "python"
    },
    "accelerator": "TPU",
    "gpuClass": "standard"
  },
  "cells": [
    {
      "cell_type": "markdown",
      "metadata": {
        "id": "view-in-github",
        "colab_type": "text"
      },
      "source": [
        "<a href=\"https://colab.research.google.com/github/ritikavijayy/mlReva/blob/main/Numpy.ipynb\" target=\"_parent\"><img src=\"https://colab.research.google.com/assets/colab-badge.svg\" alt=\"Open In Colab\"/></a>"
      ]
    },
    {
      "cell_type": "code",
      "execution_count": 3,
      "metadata": {
        "colab": {
          "base_uri": "https://localhost:8080/"
        },
        "id": "UEF-wkTlSrY7",
        "outputId": "112081e1-7c9e-498c-bbf4-3211936fe582"
      },
      "outputs": [
        {
          "output_type": "stream",
          "name": "stdout",
          "text": [
            "0.23047296643239001\n"
          ]
        }
      ],
      "source": [
        "import random \n",
        "number=random.random()\n",
        "print(number)"
      ]
    },
    {
      "cell_type": "code",
      "source": [
        "import random \n",
        "number=random.randint(1,10)\n",
        "\n",
        "\n",
        "print(number)\n"
      ],
      "metadata": {
        "colab": {
          "base_uri": "https://localhost:8080/"
        },
        "id": "AagvmhePS64S",
        "outputId": "d691bd81-e0bd-43e2-df9a-8801eb0246de"
      },
      "execution_count": 4,
      "outputs": [
        {
          "output_type": "stream",
          "name": "stdout",
          "text": [
            "2\n"
          ]
        }
      ]
    },
    {
      "cell_type": "markdown",
      "source": [
        "import numpy \n"
      ],
      "metadata": {
        "id": "gXCbGLS9vYhG"
      }
    },
    {
      "cell_type": "code",
      "source": [
        "import numpy as np \n"
      ],
      "metadata": {
        "id": "FQUwctiuvrIu"
      },
      "execution_count": 5,
      "outputs": []
    },
    {
      "cell_type": "code",
      "source": [
        "a=np.array([0,1,2,3])"
      ],
      "metadata": {
        "id": "mZUWpSOkv3hT"
      },
      "execution_count": 6,
      "outputs": []
    },
    {
      "cell_type": "code",
      "source": [
        "b=np.array([1,3,4,6])\n",
        "b"
      ],
      "metadata": {
        "colab": {
          "base_uri": "https://localhost:8080/"
        },
        "id": "ztDN8Sa6wFBE",
        "outputId": "59be03b2-2a4b-4ff7-ba4e-5ee77ec11ef2"
      },
      "execution_count": 7,
      "outputs": [
        {
          "output_type": "execute_result",
          "data": {
            "text/plain": [
              "array([1, 3, 4, 6])"
            ]
          },
          "metadata": {},
          "execution_count": 7
        }
      ]
    },
    {
      "cell_type": "code",
      "source": [
        "a*b"
      ],
      "metadata": {
        "colab": {
          "base_uri": "https://localhost:8080/"
        },
        "id": "KYvhxib_wPmX",
        "outputId": "c7ca4d5e-a633-4b52-ed93-ff3a5c36b2f0"
      },
      "execution_count": 8,
      "outputs": [
        {
          "output_type": "execute_result",
          "data": {
            "text/plain": [
              "array([ 0,  3,  8, 18])"
            ]
          },
          "metadata": {},
          "execution_count": 8
        }
      ]
    },
    {
      "cell_type": "code",
      "source": [
        "c=np.array([[0,1,2,3],[10,11,12,13]])\n",
        "c"
      ],
      "metadata": {
        "colab": {
          "base_uri": "https://localhost:8080/"
        },
        "id": "413Srp5ZwY8Y",
        "outputId": "37426940-162b-4791-a30e-f673773785c0"
      },
      "execution_count": 9,
      "outputs": [
        {
          "output_type": "execute_result",
          "data": {
            "text/plain": [
              "array([[ 0,  1,  2,  3],\n",
              "       [10, 11, 12, 13]])"
            ]
          },
          "metadata": {},
          "execution_count": 9
        }
      ]
    },
    {
      "cell_type": "code",
      "source": [
        "c.shape"
      ],
      "metadata": {
        "colab": {
          "base_uri": "https://localhost:8080/"
        },
        "id": "y9cN9YEkxKM8",
        "outputId": "5e0afbb5-00e2-4231-a041-46510b048d4d"
      },
      "execution_count": 10,
      "outputs": [
        {
          "output_type": "execute_result",
          "data": {
            "text/plain": [
              "(2, 4)"
            ]
          },
          "metadata": {},
          "execution_count": 10
        }
      ]
    },
    {
      "cell_type": "code",
      "source": [
        "c[1,3]=-1\n",
        "c"
      ],
      "metadata": {
        "colab": {
          "base_uri": "https://localhost:8080/"
        },
        "id": "iKtkCervyXVq",
        "outputId": "01f9f191-711b-4e0f-8b0d-7a67ecb296d3"
      },
      "execution_count": 11,
      "outputs": [
        {
          "output_type": "execute_result",
          "data": {
            "text/plain": [
              "array([[ 0,  1,  2,  3],\n",
              "       [10, 11, 12, -1]])"
            ]
          },
          "metadata": {},
          "execution_count": 11
        }
      ]
    },
    {
      "cell_type": "code",
      "source": [
        "a[1:3] #slicing "
      ],
      "metadata": {
        "id": "H70QHC9tydli",
        "colab": {
          "base_uri": "https://localhost:8080/"
        },
        "outputId": "661c55bf-6192-4657-b841-018738db790e"
      },
      "execution_count": 12,
      "outputs": [
        {
          "output_type": "execute_result",
          "data": {
            "text/plain": [
              "array([1, 2])"
            ]
          },
          "metadata": {},
          "execution_count": 12
        }
      ]
    },
    {
      "cell_type": "code",
      "source": [
        "a[-1:3]\n",
        "a"
      ],
      "metadata": {
        "colab": {
          "base_uri": "https://localhost:8080/"
        },
        "id": "oBiemHJ3zoKa",
        "outputId": "d9c3e7ac-435c-404b-e914-83e13ea169f5"
      },
      "execution_count": 21,
      "outputs": [
        {
          "output_type": "execute_result",
          "data": {
            "text/plain": [
              "array([0, 1, 2, 3])"
            ]
          },
          "metadata": {},
          "execution_count": 21
        }
      ]
    },
    {
      "cell_type": "code",
      "source": [
        "import numpy as np\n",
        "arr=np.array([1,2,3,4,5,6,7,8,9,10,11,12])\n",
        "newarr=arr.reshape(4,3)\n",
        "print(newarr)"
      ],
      "metadata": {
        "colab": {
          "base_uri": "https://localhost:8080/"
        },
        "id": "9Pncvfl50eD2",
        "outputId": "163ca6f7-d15f-4b31-e1ff-1b26c903edf6"
      },
      "execution_count": 24,
      "outputs": [
        {
          "output_type": "stream",
          "name": "stdout",
          "text": [
            "[[ 1  2  3]\n",
            " [ 4  5  6]\n",
            " [ 7  8  9]\n",
            " [10 11 12]]\n"
          ]
        }
      ]
    },
    {
      "cell_type": "code",
      "source": [
        "newarr=arr.reshape(3,4)\n",
        "print(newarr)"
      ],
      "metadata": {
        "colab": {
          "base_uri": "https://localhost:8080/"
        },
        "id": "VMtPVPeG2Eb6",
        "outputId": "d7826515-ab24-43e2-b21e-53d25e80b144"
      },
      "execution_count": 28,
      "outputs": [
        {
          "output_type": "stream",
          "name": "stdout",
          "text": [
            "[[ 1  2  3  4]\n",
            " [ 5  6  7  8]\n",
            " [ 9 10 11 12]]\n"
          ]
        }
      ]
    },
    {
      "cell_type": "code",
      "source": [
        "c=np.arange(216).reshape(6,6,6) #generate numbers till 24-arange\n",
        "c"
      ],
      "metadata": {
        "colab": {
          "base_uri": "https://localhost:8080/"
        },
        "id": "JpOooKWq3hWS",
        "outputId": "5dd3b41c-199b-4883-d0bb-49f9faeb5462"
      },
      "execution_count": 40,
      "outputs": [
        {
          "output_type": "execute_result",
          "data": {
            "text/plain": [
              "array([[[  0,   1,   2,   3,   4,   5],\n",
              "        [  6,   7,   8,   9,  10,  11],\n",
              "        [ 12,  13,  14,  15,  16,  17],\n",
              "        [ 18,  19,  20,  21,  22,  23],\n",
              "        [ 24,  25,  26,  27,  28,  29],\n",
              "        [ 30,  31,  32,  33,  34,  35]],\n",
              "\n",
              "       [[ 36,  37,  38,  39,  40,  41],\n",
              "        [ 42,  43,  44,  45,  46,  47],\n",
              "        [ 48,  49,  50,  51,  52,  53],\n",
              "        [ 54,  55,  56,  57,  58,  59],\n",
              "        [ 60,  61,  62,  63,  64,  65],\n",
              "        [ 66,  67,  68,  69,  70,  71]],\n",
              "\n",
              "       [[ 72,  73,  74,  75,  76,  77],\n",
              "        [ 78,  79,  80,  81,  82,  83],\n",
              "        [ 84,  85,  86,  87,  88,  89],\n",
              "        [ 90,  91,  92,  93,  94,  95],\n",
              "        [ 96,  97,  98,  99, 100, 101],\n",
              "        [102, 103, 104, 105, 106, 107]],\n",
              "\n",
              "       [[108, 109, 110, 111, 112, 113],\n",
              "        [114, 115, 116, 117, 118, 119],\n",
              "        [120, 121, 122, 123, 124, 125],\n",
              "        [126, 127, 128, 129, 130, 131],\n",
              "        [132, 133, 134, 135, 136, 137],\n",
              "        [138, 139, 140, 141, 142, 143]],\n",
              "\n",
              "       [[144, 145, 146, 147, 148, 149],\n",
              "        [150, 151, 152, 153, 154, 155],\n",
              "        [156, 157, 158, 159, 160, 161],\n",
              "        [162, 163, 164, 165, 166, 167],\n",
              "        [168, 169, 170, 171, 172, 173],\n",
              "        [174, 175, 176, 177, 178, 179]],\n",
              "\n",
              "       [[180, 181, 182, 183, 184, 185],\n",
              "        [186, 187, 188, 189, 190, 191],\n",
              "        [192, 193, 194, 195, 196, 197],\n",
              "        [198, 199, 200, 201, 202, 203],\n",
              "        [204, 205, 206, 207, 208, 209],\n",
              "        [210, 211, 212, 213, 214, 215]]])"
            ]
          },
          "metadata": {},
          "execution_count": 40
        }
      ]
    },
    {
      "cell_type": "code",
      "source": [
        "c=np.arange(0,125,5).reshape(5,5)\n",
        "c"
      ],
      "metadata": {
        "colab": {
          "base_uri": "https://localhost:8080/"
        },
        "id": "aVH5iftM5YqX",
        "outputId": "6af50751-a1fc-4a4f-9888-928d2e663157"
      },
      "execution_count": 47,
      "outputs": [
        {
          "output_type": "execute_result",
          "data": {
            "text/plain": [
              "array([[  0,   5,  10,  15,  20],\n",
              "       [ 25,  30,  35,  40,  45],\n",
              "       [ 50,  55,  60,  65,  70],\n",
              "       [ 75,  80,  85,  90,  95],\n",
              "       [100, 105, 110, 115, 120]])"
            ]
          },
          "metadata": {},
          "execution_count": 47
        }
      ]
    },
    {
      "cell_type": "code",
      "source": [
        "c[0,3:5]\n",
        "c"
      ],
      "metadata": {
        "colab": {
          "base_uri": "https://localhost:8080/"
        },
        "id": "R_1VSS_U3sn5",
        "outputId": "797a2544-8abc-4de3-b155-9529099ff245"
      },
      "execution_count": 49,
      "outputs": [
        {
          "output_type": "execute_result",
          "data": {
            "text/plain": [
              "array([[  0,   5,  10,  15,  20],\n",
              "       [ 25,  30,  35,  40,  45],\n",
              "       [ 50,  55,  60,  65,  70],\n",
              "       [ 75,  80,  85,  90,  95],\n",
              "       [100, 105, 110, 115, 120]])"
            ]
          },
          "metadata": {},
          "execution_count": 49
        }
      ]
    },
    {
      "cell_type": "code",
      "source": [
        "c[2][:2]\n",
        "c[3,:]\n",
        "c[:,2].reshape(5,1)"
      ],
      "metadata": {
        "colab": {
          "base_uri": "https://localhost:8080/"
        },
        "id": "nMaJXWxk7ms7",
        "outputId": "1c313540-5573-48dc-a1db-9c10c7575b32"
      },
      "execution_count": 56,
      "outputs": [
        {
          "output_type": "execute_result",
          "data": {
            "text/plain": [
              "array([[ 10],\n",
              "       [ 35],\n",
              "       [ 60],\n",
              "       [ 85],\n",
              "       [110]])"
            ]
          },
          "metadata": {},
          "execution_count": 56
        }
      ]
    },
    {
      "cell_type": "code",
      "source": [
        "c[2,2:3]\n",
        "c"
      ],
      "metadata": {
        "colab": {
          "base_uri": "https://localhost:8080/"
        },
        "id": "tKjJ120A72K_",
        "outputId": "d7d5ffb1-346c-42ac-e259-95c815755a90"
      },
      "execution_count": 57,
      "outputs": [
        {
          "output_type": "execute_result",
          "data": {
            "text/plain": [
              "array([[  0,   5,  10,  15,  20],\n",
              "       [ 25,  30,  35,  40,  45],\n",
              "       [ 50,  55,  60,  65,  70],\n",
              "       [ 75,  80,  85,  90,  95],\n",
              "       [100, 105, 110, 115, 120]])"
            ]
          },
          "metadata": {},
          "execution_count": 57
        }
      ]
    },
    {
      "cell_type": "code",
      "source": [
        "c[2,:]"
      ],
      "metadata": {
        "colab": {
          "base_uri": "https://localhost:8080/"
        },
        "id": "b3HmRpZm-Gqr",
        "outputId": "60b870f3-87a4-45cb-c166-6ac3a3e3075b"
      },
      "execution_count": 58,
      "outputs": [
        {
          "output_type": "execute_result",
          "data": {
            "text/plain": [
              "array([50, 55, 60, 65, 70])"
            ]
          },
          "metadata": {},
          "execution_count": 58
        }
      ]
    },
    {
      "cell_type": "code",
      "source": [
        "c[:,2]#.reshape(5,1)"
      ],
      "metadata": {
        "colab": {
          "base_uri": "https://localhost:8080/"
        },
        "id": "wEENcpVz-JHd",
        "outputId": "2af824cf-558a-44c4-badf-862891062dfa"
      },
      "execution_count": 63,
      "outputs": [
        {
          "output_type": "execute_result",
          "data": {
            "text/plain": [
              "array([ 10,  35,  60,  85, 110])"
            ]
          },
          "metadata": {},
          "execution_count": 63
        }
      ]
    },
    {
      "cell_type": "code",
      "source": [
        "c"
      ],
      "metadata": {
        "colab": {
          "base_uri": "https://localhost:8080/"
        },
        "id": "-zxBHOgi-LyI",
        "outputId": "8b96a885-48df-4a93-d896-3b844fcf8685"
      },
      "execution_count": 61,
      "outputs": [
        {
          "output_type": "execute_result",
          "data": {
            "text/plain": [
              "array([[  0,   5,  10,  15,  20],\n",
              "       [ 25,  30,  35,  40,  45],\n",
              "       [ 50,  55,  60,  65,  70],\n",
              "       [ 75,  80,  85,  90,  95],\n",
              "       [100, 105, 110, 115, 120]])"
            ]
          },
          "metadata": {},
          "execution_count": 61
        }
      ]
    },
    {
      "cell_type": "code",
      "source": [],
      "metadata": {
        "id": "3X7i4-ps-RWC"
      },
      "execution_count": null,
      "outputs": []
    }
  ]
}