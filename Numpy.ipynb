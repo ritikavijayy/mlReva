{
  "nbformat": 4,
  "nbformat_minor": 0,
  "metadata": {
    "colab": {
      "name": "Numpy.ipynb",
      "provenance": [],
      "collapsed_sections": [],
      "include_colab_link": true
    },
    "kernelspec": {
      "name": "python3",
      "display_name": "Python 3"
    },
    "language_info": {
      "name": "python"
    },
    "gpuClass": "standard"
  },
  "cells": [
    {
      "cell_type": "markdown",
      "metadata": {
        "id": "view-in-github",
        "colab_type": "text"
      },
      "source": [
        "<a href=\"https://colab.research.google.com/github/ritikavijayy/mlReva/blob/main/Numpy.ipynb\" target=\"_parent\"><img src=\"https://colab.research.google.com/assets/colab-badge.svg\" alt=\"Open In Colab\"/></a>"
      ]
    },
    {
      "cell_type": "code",
      "execution_count": 2,
      "metadata": {
        "colab": {
          "base_uri": "https://localhost:8080/"
        },
        "id": "UEF-wkTlSrY7",
        "outputId": "b2546ada-f61a-4901-b0e9-e852daab40a8"
      },
      "outputs": [
        {
          "output_type": "stream",
          "name": "stdout",
          "text": [
            "0.10349077658729189\n"
          ]
        }
      ],
      "source": [
        "import random \n",
        "number=random.random()\n",
        "print(number)"
      ]
    },
    {
      "cell_type": "code",
      "source": [
        "import random \n",
        "number=random.randint(1,10)\n",
        "\n",
        "\n",
        "print(number)\n"
      ],
      "metadata": {
        "colab": {
          "base_uri": "https://localhost:8080/"
        },
        "id": "AagvmhePS64S",
        "outputId": "3650bb2f-41d9-42a0-aba4-feb40fc5a5ce"
      },
      "execution_count": 3,
      "outputs": [
        {
          "output_type": "stream",
          "name": "stdout",
          "text": [
            "10\n"
          ]
        }
      ]
    },
    {
      "cell_type": "markdown",
      "source": [
        "import numpy \n"
      ],
      "metadata": {
        "id": "gXCbGLS9vYhG"
      }
    },
    {
      "cell_type": "code",
      "source": [
        "import numpy as np \n"
      ],
      "metadata": {
        "id": "FQUwctiuvrIu"
      },
      "execution_count": 4,
      "outputs": []
    },
    {
      "cell_type": "code",
      "source": [
        "a=np.array([0,1,2,3])"
      ],
      "metadata": {
        "id": "mZUWpSOkv3hT"
      },
      "execution_count": 5,
      "outputs": []
    },
    {
      "cell_type": "code",
      "source": [
        "b=np.array([1,3,4,6])\n",
        "b"
      ],
      "metadata": {
        "colab": {
          "base_uri": "https://localhost:8080/"
        },
        "id": "ztDN8Sa6wFBE",
        "outputId": "55fc4011-c0ec-4eb5-c3cb-574b26de706d"
      },
      "execution_count": 6,
      "outputs": [
        {
          "output_type": "execute_result",
          "data": {
            "text/plain": [
              "array([1, 3, 4, 6])"
            ]
          },
          "metadata": {},
          "execution_count": 6
        }
      ]
    },
    {
      "cell_type": "code",
      "source": [
        "a*b"
      ],
      "metadata": {
        "colab": {
          "base_uri": "https://localhost:8080/"
        },
        "id": "KYvhxib_wPmX",
        "outputId": "a5bf78e8-da47-4b43-f8c9-7ad740131c94"
      },
      "execution_count": 7,
      "outputs": [
        {
          "output_type": "execute_result",
          "data": {
            "text/plain": [
              "array([ 0,  3,  8, 18])"
            ]
          },
          "metadata": {},
          "execution_count": 7
        }
      ]
    },
    {
      "cell_type": "code",
      "source": [
        "c=np.array([[0,1,2,3],[10,11,12,13]])\n",
        "c"
      ],
      "metadata": {
        "colab": {
          "base_uri": "https://localhost:8080/"
        },
        "id": "413Srp5ZwY8Y",
        "outputId": "f5847d3e-b5a7-4192-ba7e-31805225e362"
      },
      "execution_count": 8,
      "outputs": [
        {
          "output_type": "execute_result",
          "data": {
            "text/plain": [
              "array([[ 0,  1,  2,  3],\n",
              "       [10, 11, 12, 13]])"
            ]
          },
          "metadata": {},
          "execution_count": 8
        }
      ]
    },
    {
      "cell_type": "code",
      "source": [
        "c.shape"
      ],
      "metadata": {
        "colab": {
          "base_uri": "https://localhost:8080/"
        },
        "id": "y9cN9YEkxKM8",
        "outputId": "99a78e77-6078-4cdd-e7aa-1c19113b9b77"
      },
      "execution_count": 9,
      "outputs": [
        {
          "output_type": "execute_result",
          "data": {
            "text/plain": [
              "(2, 4)"
            ]
          },
          "metadata": {},
          "execution_count": 9
        }
      ]
    },
    {
      "cell_type": "code",
      "source": [
        "c[1,3]=-1\n",
        "c"
      ],
      "metadata": {
        "colab": {
          "base_uri": "https://localhost:8080/"
        },
        "id": "iKtkCervyXVq",
        "outputId": "4dd3aedc-f3e0-43cf-ecbd-23bc4986d0da"
      },
      "execution_count": 10,
      "outputs": [
        {
          "output_type": "execute_result",
          "data": {
            "text/plain": [
              "array([[ 0,  1,  2,  3],\n",
              "       [10, 11, 12, -1]])"
            ]
          },
          "metadata": {},
          "execution_count": 10
        }
      ]
    },
    {
      "cell_type": "code",
      "source": [
        "a[1:3] #slicing "
      ],
      "metadata": {
        "id": "H70QHC9tydli",
        "colab": {
          "base_uri": "https://localhost:8080/"
        },
        "outputId": "878757ee-cb22-4eba-bab1-f477ba5e8e30"
      },
      "execution_count": 11,
      "outputs": [
        {
          "output_type": "execute_result",
          "data": {
            "text/plain": [
              "array([1, 2])"
            ]
          },
          "metadata": {},
          "execution_count": 11
        }
      ]
    },
    {
      "cell_type": "code",
      "source": [
        "a[-1:3]\n",
        "a"
      ],
      "metadata": {
        "colab": {
          "base_uri": "https://localhost:8080/"
        },
        "id": "oBiemHJ3zoKa",
        "outputId": "c772bd47-f5ee-4af5-e9ee-53868a48cf38"
      },
      "execution_count": 12,
      "outputs": [
        {
          "output_type": "execute_result",
          "data": {
            "text/plain": [
              "array([0, 1, 2, 3])"
            ]
          },
          "metadata": {},
          "execution_count": 12
        }
      ]
    },
    {
      "cell_type": "code",
      "source": [
        "import numpy as np\n",
        "arr=np.array([1,2,3,4,5,6,7,8,9,10,11,12])\n",
        "newarr=arr.reshape(4,3)\n",
        "print(newarr)"
      ],
      "metadata": {
        "colab": {
          "base_uri": "https://localhost:8080/"
        },
        "id": "9Pncvfl50eD2",
        "outputId": "c39412c6-93f8-45b2-8856-0184b934ad54"
      },
      "execution_count": 13,
      "outputs": [
        {
          "output_type": "stream",
          "name": "stdout",
          "text": [
            "[[ 1  2  3]\n",
            " [ 4  5  6]\n",
            " [ 7  8  9]\n",
            " [10 11 12]]\n"
          ]
        }
      ]
    },
    {
      "cell_type": "code",
      "source": [
        "newarr=arr.reshape(3,4)\n",
        "print(newarr)"
      ],
      "metadata": {
        "colab": {
          "base_uri": "https://localhost:8080/"
        },
        "id": "VMtPVPeG2Eb6",
        "outputId": "d66c73af-b74b-47ac-bcfd-927c762a9b79"
      },
      "execution_count": 14,
      "outputs": [
        {
          "output_type": "stream",
          "name": "stdout",
          "text": [
            "[[ 1  2  3  4]\n",
            " [ 5  6  7  8]\n",
            " [ 9 10 11 12]]\n"
          ]
        }
      ]
    },
    {
      "cell_type": "code",
      "source": [
        "c=np.arange(216).reshape(6,6,6) #generate numbers till 24-arange\n",
        "c"
      ],
      "metadata": {
        "colab": {
          "base_uri": "https://localhost:8080/"
        },
        "id": "JpOooKWq3hWS",
        "outputId": "999772f1-ebbf-45da-9a56-83a124a70564"
      },
      "execution_count": 15,
      "outputs": [
        {
          "output_type": "execute_result",
          "data": {
            "text/plain": [
              "array([[[  0,   1,   2,   3,   4,   5],\n",
              "        [  6,   7,   8,   9,  10,  11],\n",
              "        [ 12,  13,  14,  15,  16,  17],\n",
              "        [ 18,  19,  20,  21,  22,  23],\n",
              "        [ 24,  25,  26,  27,  28,  29],\n",
              "        [ 30,  31,  32,  33,  34,  35]],\n",
              "\n",
              "       [[ 36,  37,  38,  39,  40,  41],\n",
              "        [ 42,  43,  44,  45,  46,  47],\n",
              "        [ 48,  49,  50,  51,  52,  53],\n",
              "        [ 54,  55,  56,  57,  58,  59],\n",
              "        [ 60,  61,  62,  63,  64,  65],\n",
              "        [ 66,  67,  68,  69,  70,  71]],\n",
              "\n",
              "       [[ 72,  73,  74,  75,  76,  77],\n",
              "        [ 78,  79,  80,  81,  82,  83],\n",
              "        [ 84,  85,  86,  87,  88,  89],\n",
              "        [ 90,  91,  92,  93,  94,  95],\n",
              "        [ 96,  97,  98,  99, 100, 101],\n",
              "        [102, 103, 104, 105, 106, 107]],\n",
              "\n",
              "       [[108, 109, 110, 111, 112, 113],\n",
              "        [114, 115, 116, 117, 118, 119],\n",
              "        [120, 121, 122, 123, 124, 125],\n",
              "        [126, 127, 128, 129, 130, 131],\n",
              "        [132, 133, 134, 135, 136, 137],\n",
              "        [138, 139, 140, 141, 142, 143]],\n",
              "\n",
              "       [[144, 145, 146, 147, 148, 149],\n",
              "        [150, 151, 152, 153, 154, 155],\n",
              "        [156, 157, 158, 159, 160, 161],\n",
              "        [162, 163, 164, 165, 166, 167],\n",
              "        [168, 169, 170, 171, 172, 173],\n",
              "        [174, 175, 176, 177, 178, 179]],\n",
              "\n",
              "       [[180, 181, 182, 183, 184, 185],\n",
              "        [186, 187, 188, 189, 190, 191],\n",
              "        [192, 193, 194, 195, 196, 197],\n",
              "        [198, 199, 200, 201, 202, 203],\n",
              "        [204, 205, 206, 207, 208, 209],\n",
              "        [210, 211, 212, 213, 214, 215]]])"
            ]
          },
          "metadata": {},
          "execution_count": 15
        }
      ]
    },
    {
      "cell_type": "code",
      "source": [
        "c=np.arange(0,125,5).reshape(5,5)\n",
        "c"
      ],
      "metadata": {
        "colab": {
          "base_uri": "https://localhost:8080/"
        },
        "id": "aVH5iftM5YqX",
        "outputId": "49428188-eb43-4b19-869f-738cfd10406f"
      },
      "execution_count": 16,
      "outputs": [
        {
          "output_type": "execute_result",
          "data": {
            "text/plain": [
              "array([[  0,   5,  10,  15,  20],\n",
              "       [ 25,  30,  35,  40,  45],\n",
              "       [ 50,  55,  60,  65,  70],\n",
              "       [ 75,  80,  85,  90,  95],\n",
              "       [100, 105, 110, 115, 120]])"
            ]
          },
          "metadata": {},
          "execution_count": 16
        }
      ]
    },
    {
      "cell_type": "code",
      "source": [
        "c[0,3:5]\n",
        "c"
      ],
      "metadata": {
        "colab": {
          "base_uri": "https://localhost:8080/"
        },
        "id": "R_1VSS_U3sn5",
        "outputId": "6be99197-e90a-4c96-9dd3-5a2afa130c46"
      },
      "execution_count": 17,
      "outputs": [
        {
          "output_type": "execute_result",
          "data": {
            "text/plain": [
              "array([[  0,   5,  10,  15,  20],\n",
              "       [ 25,  30,  35,  40,  45],\n",
              "       [ 50,  55,  60,  65,  70],\n",
              "       [ 75,  80,  85,  90,  95],\n",
              "       [100, 105, 110, 115, 120]])"
            ]
          },
          "metadata": {},
          "execution_count": 17
        }
      ]
    },
    {
      "cell_type": "code",
      "source": [
        "c[2][:2]\n",
        "c[3,:]\n",
        "c[:,2].reshape(5,1)"
      ],
      "metadata": {
        "colab": {
          "base_uri": "https://localhost:8080/"
        },
        "id": "nMaJXWxk7ms7",
        "outputId": "a565f94c-4f30-4c73-9956-72ff4b275a54"
      },
      "execution_count": 18,
      "outputs": [
        {
          "output_type": "execute_result",
          "data": {
            "text/plain": [
              "array([[ 10],\n",
              "       [ 35],\n",
              "       [ 60],\n",
              "       [ 85],\n",
              "       [110]])"
            ]
          },
          "metadata": {},
          "execution_count": 18
        }
      ]
    },
    {
      "cell_type": "code",
      "source": [
        "c[2,2:3]\n",
        "c"
      ],
      "metadata": {
        "colab": {
          "base_uri": "https://localhost:8080/"
        },
        "id": "tKjJ120A72K_",
        "outputId": "002f895c-e73b-4f83-cfd8-bccc7a9c3600"
      },
      "execution_count": 19,
      "outputs": [
        {
          "output_type": "execute_result",
          "data": {
            "text/plain": [
              "array([[  0,   5,  10,  15,  20],\n",
              "       [ 25,  30,  35,  40,  45],\n",
              "       [ 50,  55,  60,  65,  70],\n",
              "       [ 75,  80,  85,  90,  95],\n",
              "       [100, 105, 110, 115, 120]])"
            ]
          },
          "metadata": {},
          "execution_count": 19
        }
      ]
    },
    {
      "cell_type": "code",
      "source": [
        "c[2,:]"
      ],
      "metadata": {
        "colab": {
          "base_uri": "https://localhost:8080/"
        },
        "id": "b3HmRpZm-Gqr",
        "outputId": "c53ad1cf-3500-4297-9cbf-dee8a533e651"
      },
      "execution_count": 20,
      "outputs": [
        {
          "output_type": "execute_result",
          "data": {
            "text/plain": [
              "array([50, 55, 60, 65, 70])"
            ]
          },
          "metadata": {},
          "execution_count": 20
        }
      ]
    },
    {
      "cell_type": "code",
      "source": [
        "c[:,2]#.reshape(5,1)"
      ],
      "metadata": {
        "colab": {
          "base_uri": "https://localhost:8080/"
        },
        "id": "wEENcpVz-JHd",
        "outputId": "1b888472-e200-4c84-e755-963bf0f87790"
      },
      "execution_count": 21,
      "outputs": [
        {
          "output_type": "execute_result",
          "data": {
            "text/plain": [
              "array([ 10,  35,  60,  85, 110])"
            ]
          },
          "metadata": {},
          "execution_count": 21
        }
      ]
    },
    {
      "cell_type": "code",
      "source": [
        "c"
      ],
      "metadata": {
        "colab": {
          "base_uri": "https://localhost:8080/"
        },
        "id": "-zxBHOgi-LyI",
        "outputId": "9c11882b-94f8-49c6-ea44-6d7f426ff1cf"
      },
      "execution_count": 22,
      "outputs": [
        {
          "output_type": "execute_result",
          "data": {
            "text/plain": [
              "array([[  0,   5,  10,  15,  20],\n",
              "       [ 25,  30,  35,  40,  45],\n",
              "       [ 50,  55,  60,  65,  70],\n",
              "       [ 75,  80,  85,  90,  95],\n",
              "       [100, 105, 110, 115, 120]])"
            ]
          },
          "metadata": {},
          "execution_count": 22
        }
      ]
    },
    {
      "cell_type": "code",
      "source": [
        "d=np.arange(-15,15).reshape(5,6)**6\n",
        "d"
      ],
      "metadata": {
        "colab": {
          "base_uri": "https://localhost:8080/"
        },
        "id": "3X7i4-ps-RWC",
        "outputId": "8dcc9b66-8782-4643-bf44-5afd8c3604bf"
      },
      "execution_count": 26,
      "outputs": [
        {
          "output_type": "execute_result",
          "data": {
            "text/plain": [
              "array([[11390625,  7529536,  4826809,  2985984,  1771561,  1000000],\n",
              "       [  531441,   262144,   117649,    46656,    15625,     4096],\n",
              "       [     729,       64,        1,        0,        1,       64],\n",
              "       [     729,     4096,    15625,    46656,   117649,   262144],\n",
              "       [  531441,  1000000,  1771561,  2985984,  4826809,  7529536]])"
            ]
          },
          "metadata": {},
          "execution_count": 26
        }
      ]
    },
    {
      "cell_type": "code",
      "source": [
        "import numpy as np \n",
        "\n",
        "np.linspace(0,1,5)"
      ],
      "metadata": {
        "id": "ifIyaGAOCvTf",
        "colab": {
          "base_uri": "https://localhost:8080/"
        },
        "outputId": "582b27d4-1b40-4bc3-9f55-98aaf0bd4cd1"
      },
      "execution_count": 24,
      "outputs": [
        {
          "output_type": "execute_result",
          "data": {
            "text/plain": [
              "array([0.  , 0.25, 0.5 , 0.75, 1.  ])"
            ]
          },
          "metadata": {},
          "execution_count": 24
        }
      ]
    },
    {
      "cell_type": "code",
      "source": [
        "arr = np.loadtxt('data.txt',dtype= int,skiprows= 2,delimiter=',',comments='#')"
      ],
      "metadata": {
        "id": "DYHNPq_Fxs-H"
      },
      "execution_count": 31,
      "outputs": []
    },
    {
      "cell_type": "code",
      "source": [
        "arr"
      ],
      "metadata": {
        "colab": {
          "base_uri": "https://localhost:8080/"
        },
        "id": "FrZHBGnX0DPe",
        "outputId": "60604c22-f0f1-47af-8b31-e294b1a3d455"
      },
      "execution_count": 32,
      "outputs": [
        {
          "output_type": "execute_result",
          "data": {
            "text/plain": [
              "array([[  1,   2,   3,   4,   5,   6,   7,   8,   9],\n",
              "       [ 11,  22,  33,  44,  55,  66,  77,  88,  99],\n",
              "       [101, 102, 103, 104, 105, 106, 107, 108, 109]])"
            ]
          },
          "metadata": {},
          "execution_count": 32
        }
      ]
    },
    {
      "cell_type": "code",
      "source": [
        "arr.sum()"
      ],
      "metadata": {
        "colab": {
          "base_uri": "https://localhost:8080/"
        },
        "id": "Xt1q-sws2Z_c",
        "outputId": "6b5ef259-deb5-455d-d80b-1ff0a086f46b"
      },
      "execution_count": 35,
      "outputs": [
        {
          "output_type": "execute_result",
          "data": {
            "text/plain": [
              "1485"
            ]
          },
          "metadata": {},
          "execution_count": 35
        }
      ]
    },
    {
      "cell_type": "code",
      "source": [
        "arr.sum(axis=0) # axis '0' refers to x-axis , axis 1 refers to y-axis"
      ],
      "metadata": {
        "colab": {
          "base_uri": "https://localhost:8080/"
        },
        "id": "BX_vpTSH4HWV",
        "outputId": "d4c7384c-8652-4f0d-f85b-674fed5f9490"
      },
      "execution_count": 40,
      "outputs": [
        {
          "output_type": "execute_result",
          "data": {
            "text/plain": [
              "array([113, 126, 139, 152, 165, 178, 191, 204, 217])"
            ]
          },
          "metadata": {},
          "execution_count": 40
        }
      ]
    },
    {
      "cell_type": "code",
      "source": [
        "arr.sum(axis=1)"
      ],
      "metadata": {
        "colab": {
          "base_uri": "https://localhost:8080/"
        },
        "id": "PJ66tjhB4cWE",
        "outputId": "c106f768-f3c3-4dce-d5bc-d3d0d45d63b3"
      },
      "execution_count": 39,
      "outputs": [
        {
          "output_type": "execute_result",
          "data": {
            "text/plain": [
              "array([ 45, 495, 945])"
            ]
          },
          "metadata": {},
          "execution_count": 39
        }
      ]
    },
    {
      "cell_type": "code",
      "source": [
        "arr.min()"
      ],
      "metadata": {
        "colab": {
          "base_uri": "https://localhost:8080/"
        },
        "id": "K0U5m9H445Cj",
        "outputId": "65d973be-21c5-4ea4-fd96-8e05b601471a"
      },
      "execution_count": 41,
      "outputs": [
        {
          "output_type": "execute_result",
          "data": {
            "text/plain": [
              "1"
            ]
          },
          "metadata": {},
          "execution_count": 41
        }
      ]
    },
    {
      "cell_type": "code",
      "source": [
        "arr.max()"
      ],
      "metadata": {
        "colab": {
          "base_uri": "https://localhost:8080/"
        },
        "id": "708eXnBN5yzW",
        "outputId": "b501e090-dc55-4fef-a6c3-7143f9576243"
      },
      "execution_count": 42,
      "outputs": [
        {
          "output_type": "execute_result",
          "data": {
            "text/plain": [
              "109"
            ]
          },
          "metadata": {},
          "execution_count": 42
        }
      ]
    },
    {
      "cell_type": "code",
      "source": [
        "arr.std()"
      ],
      "metadata": {
        "colab": {
          "base_uri": "https://localhost:8080/"
        },
        "id": "pLw-lqGP56Mg",
        "outputId": "63061e4b-dc12-4b9f-a0da-c953277a9740"
      },
      "execution_count": 43,
      "outputs": [
        {
          "output_type": "execute_result",
          "data": {
            "text/plain": [
              "44.04543109109048"
            ]
          },
          "metadata": {},
          "execution_count": 43
        }
      ]
    },
    {
      "cell_type": "code",
      "source": [
        "arr.mean()\n"
      ],
      "metadata": {
        "colab": {
          "base_uri": "https://localhost:8080/"
        },
        "id": "Wz6RMVRX6II9",
        "outputId": "81820383-c1da-4fb2-c944-7ff67045b32d"
      },
      "execution_count": 45,
      "outputs": [
        {
          "output_type": "execute_result",
          "data": {
            "text/plain": [
              "55.0"
            ]
          },
          "metadata": {},
          "execution_count": 45
        }
      ]
    },
    {
      "cell_type": "code",
      "source": [
        "arr.var()"
      ],
      "metadata": {
        "colab": {
          "base_uri": "https://localhost:8080/"
        },
        "id": "F0yz7VLk6LuB",
        "outputId": "faf4d487-dffa-470b-f362-48a049d8ab16"
      },
      "execution_count": 46,
      "outputs": [
        {
          "output_type": "execute_result",
          "data": {
            "text/plain": [
              "1940.0"
            ]
          },
          "metadata": {},
          "execution_count": 46
        }
      ]
    },
    {
      "cell_type": "code",
      "source": [
        "import pandas"
      ],
      "metadata": {
        "id": "CJZvvY8O6Qwl"
      },
      "execution_count": 47,
      "outputs": []
    },
    {
      "cell_type": "code",
      "source": [
        "help(pandas)"
      ],
      "metadata": {
        "colab": {
          "base_uri": "https://localhost:8080/"
        },
        "id": "keg7HPNj6kAo",
        "outputId": "e951a771-d6e6-4887-c982-1bd9cbab7e16"
      },
      "execution_count": 48,
      "outputs": [
        {
          "output_type": "stream",
          "name": "stdout",
          "text": [
            "Help on package pandas:\n",
            "\n",
            "NAME\n",
            "    pandas\n",
            "\n",
            "DESCRIPTION\n",
            "    pandas - a powerful data analysis and manipulation library for Python\n",
            "    =====================================================================\n",
            "    \n",
            "    **pandas** is a Python package providing fast, flexible, and expressive data\n",
            "    structures designed to make working with \"relational\" or \"labeled\" data both\n",
            "    easy and intuitive. It aims to be the fundamental high-level building block for\n",
            "    doing practical, **real world** data analysis in Python. Additionally, it has\n",
            "    the broader goal of becoming **the most powerful and flexible open source data\n",
            "    analysis / manipulation tool available in any language**. It is already well on\n",
            "    its way toward this goal.\n",
            "    \n",
            "    Main Features\n",
            "    -------------\n",
            "    Here are just a few of the things that pandas does well:\n",
            "    \n",
            "      - Easy handling of missing data in floating point as well as non-floating\n",
            "        point data.\n",
            "      - Size mutability: columns can be inserted and deleted from DataFrame and\n",
            "        higher dimensional objects\n",
            "      - Automatic and explicit data alignment: objects can be explicitly aligned\n",
            "        to a set of labels, or the user can simply ignore the labels and let\n",
            "        `Series`, `DataFrame`, etc. automatically align the data for you in\n",
            "        computations.\n",
            "      - Powerful, flexible group by functionality to perform split-apply-combine\n",
            "        operations on data sets, for both aggregating and transforming data.\n",
            "      - Make it easy to convert ragged, differently-indexed data in other Python\n",
            "        and NumPy data structures into DataFrame objects.\n",
            "      - Intelligent label-based slicing, fancy indexing, and subsetting of large\n",
            "        data sets.\n",
            "      - Intuitive merging and joining data sets.\n",
            "      - Flexible reshaping and pivoting of data sets.\n",
            "      - Hierarchical labeling of axes (possible to have multiple labels per tick).\n",
            "      - Robust IO tools for loading data from flat files (CSV and delimited),\n",
            "        Excel files, databases, and saving/loading data from the ultrafast HDF5\n",
            "        format.\n",
            "      - Time series-specific functionality: date range generation and frequency\n",
            "        conversion, moving window statistics, date shifting and lagging.\n",
            "\n",
            "PACKAGE CONTENTS\n",
            "    _config (package)\n",
            "    _libs (package)\n",
            "    _testing (package)\n",
            "    _typing\n",
            "    _version\n",
            "    api (package)\n",
            "    arrays (package)\n",
            "    compat (package)\n",
            "    conftest\n",
            "    core (package)\n",
            "    errors (package)\n",
            "    io (package)\n",
            "    plotting (package)\n",
            "    testing\n",
            "    tests (package)\n",
            "    tseries (package)\n",
            "    util (package)\n",
            "\n",
            "SUBMODULES\n",
            "    _hashtable\n",
            "    _lib\n",
            "    _tslib\n",
            "    offsets\n",
            "\n",
            "FUNCTIONS\n",
            "    __getattr__(name)\n",
            "        # GH 27101\n",
            "\n",
            "DATA\n",
            "    IndexSlice = <pandas.core.indexing._IndexSlice object>\n",
            "    NA = <NA>\n",
            "    NaT = NaT\n",
            "    __docformat__ = 'restructuredtext'\n",
            "    __git_version__ = '66e3805b8cabe977f40c05259cc3fcf7ead5687d'\n",
            "    describe_option = <pandas._config.config.CallableDynamicDoc object>\n",
            "    get_option = <pandas._config.config.CallableDynamicDoc object>\n",
            "    options = <pandas._config.config.DictWrapper object>\n",
            "    reset_option = <pandas._config.config.CallableDynamicDoc object>\n",
            "    set_option = <pandas._config.config.CallableDynamicDoc object>\n",
            "\n",
            "VERSION\n",
            "    1.3.5\n",
            "\n",
            "FILE\n",
            "    /usr/local/lib/python3.7/dist-packages/pandas/__init__.py\n",
            "\n",
            "\n"
          ]
        }
      ]
    },
    {
      "cell_type": "code",
      "source": [
        "import pandas as pd\n"
      ],
      "metadata": {
        "id": "5rTUb8Oe6l97"
      },
      "execution_count": 49,
      "outputs": []
    },
    {
      "cell_type": "code",
      "source": [
        "pandas.DataFrame(arr)"
      ],
      "metadata": {
        "id": "qEm9P4dD9ify",
        "outputId": "c0178948-5230-44c0-f03f-f684435a1c26",
        "colab": {
          "base_uri": "https://localhost:8080/",
          "height": 143
        }
      },
      "execution_count": 53,
      "outputs": [
        {
          "output_type": "execute_result",
          "data": {
            "text/plain": [
              "     0    1    2    3    4    5    6    7    8\n",
              "0    1    2    3    4    5    6    7    8    9\n",
              "1   11   22   33   44   55   66   77   88   99\n",
              "2  101  102  103  104  105  106  107  108  109"
            ],
            "text/html": [
              "\n",
              "  <div id=\"df-0b4c5363-c5f3-40b4-ada6-4f402b117a68\">\n",
              "    <div class=\"colab-df-container\">\n",
              "      <div>\n",
              "<style scoped>\n",
              "    .dataframe tbody tr th:only-of-type {\n",
              "        vertical-align: middle;\n",
              "    }\n",
              "\n",
              "    .dataframe tbody tr th {\n",
              "        vertical-align: top;\n",
              "    }\n",
              "\n",
              "    .dataframe thead th {\n",
              "        text-align: right;\n",
              "    }\n",
              "</style>\n",
              "<table border=\"1\" class=\"dataframe\">\n",
              "  <thead>\n",
              "    <tr style=\"text-align: right;\">\n",
              "      <th></th>\n",
              "      <th>0</th>\n",
              "      <th>1</th>\n",
              "      <th>2</th>\n",
              "      <th>3</th>\n",
              "      <th>4</th>\n",
              "      <th>5</th>\n",
              "      <th>6</th>\n",
              "      <th>7</th>\n",
              "      <th>8</th>\n",
              "    </tr>\n",
              "  </thead>\n",
              "  <tbody>\n",
              "    <tr>\n",
              "      <th>0</th>\n",
              "      <td>1</td>\n",
              "      <td>2</td>\n",
              "      <td>3</td>\n",
              "      <td>4</td>\n",
              "      <td>5</td>\n",
              "      <td>6</td>\n",
              "      <td>7</td>\n",
              "      <td>8</td>\n",
              "      <td>9</td>\n",
              "    </tr>\n",
              "    <tr>\n",
              "      <th>1</th>\n",
              "      <td>11</td>\n",
              "      <td>22</td>\n",
              "      <td>33</td>\n",
              "      <td>44</td>\n",
              "      <td>55</td>\n",
              "      <td>66</td>\n",
              "      <td>77</td>\n",
              "      <td>88</td>\n",
              "      <td>99</td>\n",
              "    </tr>\n",
              "    <tr>\n",
              "      <th>2</th>\n",
              "      <td>101</td>\n",
              "      <td>102</td>\n",
              "      <td>103</td>\n",
              "      <td>104</td>\n",
              "      <td>105</td>\n",
              "      <td>106</td>\n",
              "      <td>107</td>\n",
              "      <td>108</td>\n",
              "      <td>109</td>\n",
              "    </tr>\n",
              "  </tbody>\n",
              "</table>\n",
              "</div>\n",
              "      <button class=\"colab-df-convert\" onclick=\"convertToInteractive('df-0b4c5363-c5f3-40b4-ada6-4f402b117a68')\"\n",
              "              title=\"Convert this dataframe to an interactive table.\"\n",
              "              style=\"display:none;\">\n",
              "        \n",
              "  <svg xmlns=\"http://www.w3.org/2000/svg\" height=\"24px\"viewBox=\"0 0 24 24\"\n",
              "       width=\"24px\">\n",
              "    <path d=\"M0 0h24v24H0V0z\" fill=\"none\"/>\n",
              "    <path d=\"M18.56 5.44l.94 2.06.94-2.06 2.06-.94-2.06-.94-.94-2.06-.94 2.06-2.06.94zm-11 1L8.5 8.5l.94-2.06 2.06-.94-2.06-.94L8.5 2.5l-.94 2.06-2.06.94zm10 10l.94 2.06.94-2.06 2.06-.94-2.06-.94-.94-2.06-.94 2.06-2.06.94z\"/><path d=\"M17.41 7.96l-1.37-1.37c-.4-.4-.92-.59-1.43-.59-.52 0-1.04.2-1.43.59L10.3 9.45l-7.72 7.72c-.78.78-.78 2.05 0 2.83L4 21.41c.39.39.9.59 1.41.59.51 0 1.02-.2 1.41-.59l7.78-7.78 2.81-2.81c.8-.78.8-2.07 0-2.86zM5.41 20L4 18.59l7.72-7.72 1.47 1.35L5.41 20z\"/>\n",
              "  </svg>\n",
              "      </button>\n",
              "      \n",
              "  <style>\n",
              "    .colab-df-container {\n",
              "      display:flex;\n",
              "      flex-wrap:wrap;\n",
              "      gap: 12px;\n",
              "    }\n",
              "\n",
              "    .colab-df-convert {\n",
              "      background-color: #E8F0FE;\n",
              "      border: none;\n",
              "      border-radius: 50%;\n",
              "      cursor: pointer;\n",
              "      display: none;\n",
              "      fill: #1967D2;\n",
              "      height: 32px;\n",
              "      padding: 0 0 0 0;\n",
              "      width: 32px;\n",
              "    }\n",
              "\n",
              "    .colab-df-convert:hover {\n",
              "      background-color: #E2EBFA;\n",
              "      box-shadow: 0px 1px 2px rgba(60, 64, 67, 0.3), 0px 1px 3px 1px rgba(60, 64, 67, 0.15);\n",
              "      fill: #174EA6;\n",
              "    }\n",
              "\n",
              "    [theme=dark] .colab-df-convert {\n",
              "      background-color: #3B4455;\n",
              "      fill: #D2E3FC;\n",
              "    }\n",
              "\n",
              "    [theme=dark] .colab-df-convert:hover {\n",
              "      background-color: #434B5C;\n",
              "      box-shadow: 0px 1px 3px 1px rgba(0, 0, 0, 0.15);\n",
              "      filter: drop-shadow(0px 1px 2px rgba(0, 0, 0, 0.3));\n",
              "      fill: #FFFFFF;\n",
              "    }\n",
              "  </style>\n",
              "\n",
              "      <script>\n",
              "        const buttonEl =\n",
              "          document.querySelector('#df-0b4c5363-c5f3-40b4-ada6-4f402b117a68 button.colab-df-convert');\n",
              "        buttonEl.style.display =\n",
              "          google.colab.kernel.accessAllowed ? 'block' : 'none';\n",
              "\n",
              "        async function convertToInteractive(key) {\n",
              "          const element = document.querySelector('#df-0b4c5363-c5f3-40b4-ada6-4f402b117a68');\n",
              "          const dataTable =\n",
              "            await google.colab.kernel.invokeFunction('convertToInteractive',\n",
              "                                                     [key], {});\n",
              "          if (!dataTable) return;\n",
              "\n",
              "          const docLinkHtml = 'Like what you see? Visit the ' +\n",
              "            '<a target=\"_blank\" href=https://colab.research.google.com/notebooks/data_table.ipynb>data table notebook</a>'\n",
              "            + ' to learn more about interactive tables.';\n",
              "          element.innerHTML = '';\n",
              "          dataTable['output_type'] = 'display_data';\n",
              "          await google.colab.output.renderOutput(dataTable, element);\n",
              "          const docLink = document.createElement('div');\n",
              "          docLink.innerHTML = docLinkHtml;\n",
              "          element.appendChild(docLink);\n",
              "        }\n",
              "      </script>\n",
              "    </div>\n",
              "  </div>\n",
              "  "
            ]
          },
          "metadata": {},
          "execution_count": 53
        }
      ]
    },
    {
      "cell_type": "code",
      "source": [
        "df=pd.read_csv('prime.csv')"
      ],
      "metadata": {
        "id": "UOvTHrJa-dvt"
      },
      "execution_count": 54,
      "outputs": []
    },
    {
      "cell_type": "code",
      "source": [
        "df"
      ],
      "metadata": {
        "id": "lMBXXKVn_LBi",
        "outputId": "41586288-1840-4366-cc56-d9d9feb2cea3",
        "colab": {
          "base_uri": "https://localhost:8080/",
          "height": 424
        }
      },
      "execution_count": 55,
      "outputs": [
        {
          "output_type": "execute_result",
          "data": {
            "text/plain": [
              "            2        3        5          7         11         13         17   \\\n",
              "0           31       37       41       43.0       47.0       53.0       59.0   \n",
              "1           73       79       83       89.0       97.0      101.0      103.0   \n",
              "2          127      131      137      139.0      149.0      151.0      157.0   \n",
              "3          179      181      191      193.0      197.0      199.0      211.0   \n",
              "4          233      239      241      251.0      257.0      263.0      269.0   \n",
              "...        ...      ...      ...        ...        ...        ...        ...   \n",
              "41993  6110509  6110519  6110521  6110527.0  6110549.0  6110551.0  6110563.0   \n",
              "41994  6110593  6110623  6110683  6110711.0  6110717.0  6110719.0  6110747.0   \n",
              "41995  6110827  6110831  6110843  6110861.0  6110933.0  6110941.0  6110969.0   \n",
              "41996  6110983  6111011  6111013  6111023.0  6111029.0  6111047.0  6111071.0   \n",
              "41997  6111151  6111167     6111        NaN        NaN        NaN        NaN   \n",
              "\n",
              "             19         23         29        \n",
              "0           61.0       67.0       71.0       \n",
              "1          107.0      109.0      113.0       \n",
              "2          163.0      167.0      173.0       \n",
              "3          223.0      227.0      229.0       \n",
              "4          271.0      277.0      281.0       \n",
              "...          ...        ...        ...  ...  \n",
              "41993  6110567.0  6110569.0  6110581.0       \n",
              "41994  6110749.0  6110777.0  6110789.0       \n",
              "41995  6110971.0  6110977.0  6110981.0       \n",
              "41996  6111073.0  6111089.0  6111139.0       \n",
              "41997        NaN        NaN        NaN  NaN  \n",
              "\n",
              "[41998 rows x 11 columns]"
            ],
            "text/html": [
              "\n",
              "  <div id=\"df-f4ade843-2c76-46b0-aee5-8babc396ca8a\">\n",
              "    <div class=\"colab-df-container\">\n",
              "      <div>\n",
              "<style scoped>\n",
              "    .dataframe tbody tr th:only-of-type {\n",
              "        vertical-align: middle;\n",
              "    }\n",
              "\n",
              "    .dataframe tbody tr th {\n",
              "        vertical-align: top;\n",
              "    }\n",
              "\n",
              "    .dataframe thead th {\n",
              "        text-align: right;\n",
              "    }\n",
              "</style>\n",
              "<table border=\"1\" class=\"dataframe\">\n",
              "  <thead>\n",
              "    <tr style=\"text-align: right;\">\n",
              "      <th></th>\n",
              "      <th>2</th>\n",
              "      <th>3</th>\n",
              "      <th>5</th>\n",
              "      <th>7</th>\n",
              "      <th>11</th>\n",
              "      <th>13</th>\n",
              "      <th>17</th>\n",
              "      <th>19</th>\n",
              "      <th>23</th>\n",
              "      <th>29</th>\n",
              "      <th></th>\n",
              "    </tr>\n",
              "  </thead>\n",
              "  <tbody>\n",
              "    <tr>\n",
              "      <th>0</th>\n",
              "      <td>31</td>\n",
              "      <td>37</td>\n",
              "      <td>41</td>\n",
              "      <td>43.0</td>\n",
              "      <td>47.0</td>\n",
              "      <td>53.0</td>\n",
              "      <td>59.0</td>\n",
              "      <td>61.0</td>\n",
              "      <td>67.0</td>\n",
              "      <td>71.0</td>\n",
              "      <td></td>\n",
              "    </tr>\n",
              "    <tr>\n",
              "      <th>1</th>\n",
              "      <td>73</td>\n",
              "      <td>79</td>\n",
              "      <td>83</td>\n",
              "      <td>89.0</td>\n",
              "      <td>97.0</td>\n",
              "      <td>101.0</td>\n",
              "      <td>103.0</td>\n",
              "      <td>107.0</td>\n",
              "      <td>109.0</td>\n",
              "      <td>113.0</td>\n",
              "      <td></td>\n",
              "    </tr>\n",
              "    <tr>\n",
              "      <th>2</th>\n",
              "      <td>127</td>\n",
              "      <td>131</td>\n",
              "      <td>137</td>\n",
              "      <td>139.0</td>\n",
              "      <td>149.0</td>\n",
              "      <td>151.0</td>\n",
              "      <td>157.0</td>\n",
              "      <td>163.0</td>\n",
              "      <td>167.0</td>\n",
              "      <td>173.0</td>\n",
              "      <td></td>\n",
              "    </tr>\n",
              "    <tr>\n",
              "      <th>3</th>\n",
              "      <td>179</td>\n",
              "      <td>181</td>\n",
              "      <td>191</td>\n",
              "      <td>193.0</td>\n",
              "      <td>197.0</td>\n",
              "      <td>199.0</td>\n",
              "      <td>211.0</td>\n",
              "      <td>223.0</td>\n",
              "      <td>227.0</td>\n",
              "      <td>229.0</td>\n",
              "      <td></td>\n",
              "    </tr>\n",
              "    <tr>\n",
              "      <th>4</th>\n",
              "      <td>233</td>\n",
              "      <td>239</td>\n",
              "      <td>241</td>\n",
              "      <td>251.0</td>\n",
              "      <td>257.0</td>\n",
              "      <td>263.0</td>\n",
              "      <td>269.0</td>\n",
              "      <td>271.0</td>\n",
              "      <td>277.0</td>\n",
              "      <td>281.0</td>\n",
              "      <td></td>\n",
              "    </tr>\n",
              "    <tr>\n",
              "      <th>...</th>\n",
              "      <td>...</td>\n",
              "      <td>...</td>\n",
              "      <td>...</td>\n",
              "      <td>...</td>\n",
              "      <td>...</td>\n",
              "      <td>...</td>\n",
              "      <td>...</td>\n",
              "      <td>...</td>\n",
              "      <td>...</td>\n",
              "      <td>...</td>\n",
              "      <td>...</td>\n",
              "    </tr>\n",
              "    <tr>\n",
              "      <th>41993</th>\n",
              "      <td>6110509</td>\n",
              "      <td>6110519</td>\n",
              "      <td>6110521</td>\n",
              "      <td>6110527.0</td>\n",
              "      <td>6110549.0</td>\n",
              "      <td>6110551.0</td>\n",
              "      <td>6110563.0</td>\n",
              "      <td>6110567.0</td>\n",
              "      <td>6110569.0</td>\n",
              "      <td>6110581.0</td>\n",
              "      <td></td>\n",
              "    </tr>\n",
              "    <tr>\n",
              "      <th>41994</th>\n",
              "      <td>6110593</td>\n",
              "      <td>6110623</td>\n",
              "      <td>6110683</td>\n",
              "      <td>6110711.0</td>\n",
              "      <td>6110717.0</td>\n",
              "      <td>6110719.0</td>\n",
              "      <td>6110747.0</td>\n",
              "      <td>6110749.0</td>\n",
              "      <td>6110777.0</td>\n",
              "      <td>6110789.0</td>\n",
              "      <td></td>\n",
              "    </tr>\n",
              "    <tr>\n",
              "      <th>41995</th>\n",
              "      <td>6110827</td>\n",
              "      <td>6110831</td>\n",
              "      <td>6110843</td>\n",
              "      <td>6110861.0</td>\n",
              "      <td>6110933.0</td>\n",
              "      <td>6110941.0</td>\n",
              "      <td>6110969.0</td>\n",
              "      <td>6110971.0</td>\n",
              "      <td>6110977.0</td>\n",
              "      <td>6110981.0</td>\n",
              "      <td></td>\n",
              "    </tr>\n",
              "    <tr>\n",
              "      <th>41996</th>\n",
              "      <td>6110983</td>\n",
              "      <td>6111011</td>\n",
              "      <td>6111013</td>\n",
              "      <td>6111023.0</td>\n",
              "      <td>6111029.0</td>\n",
              "      <td>6111047.0</td>\n",
              "      <td>6111071.0</td>\n",
              "      <td>6111073.0</td>\n",
              "      <td>6111089.0</td>\n",
              "      <td>6111139.0</td>\n",
              "      <td></td>\n",
              "    </tr>\n",
              "    <tr>\n",
              "      <th>41997</th>\n",
              "      <td>6111151</td>\n",
              "      <td>6111167</td>\n",
              "      <td>6111</td>\n",
              "      <td>NaN</td>\n",
              "      <td>NaN</td>\n",
              "      <td>NaN</td>\n",
              "      <td>NaN</td>\n",
              "      <td>NaN</td>\n",
              "      <td>NaN</td>\n",
              "      <td>NaN</td>\n",
              "      <td>NaN</td>\n",
              "    </tr>\n",
              "  </tbody>\n",
              "</table>\n",
              "<p>41998 rows × 11 columns</p>\n",
              "</div>\n",
              "      <button class=\"colab-df-convert\" onclick=\"convertToInteractive('df-f4ade843-2c76-46b0-aee5-8babc396ca8a')\"\n",
              "              title=\"Convert this dataframe to an interactive table.\"\n",
              "              style=\"display:none;\">\n",
              "        \n",
              "  <svg xmlns=\"http://www.w3.org/2000/svg\" height=\"24px\"viewBox=\"0 0 24 24\"\n",
              "       width=\"24px\">\n",
              "    <path d=\"M0 0h24v24H0V0z\" fill=\"none\"/>\n",
              "    <path d=\"M18.56 5.44l.94 2.06.94-2.06 2.06-.94-2.06-.94-.94-2.06-.94 2.06-2.06.94zm-11 1L8.5 8.5l.94-2.06 2.06-.94-2.06-.94L8.5 2.5l-.94 2.06-2.06.94zm10 10l.94 2.06.94-2.06 2.06-.94-2.06-.94-.94-2.06-.94 2.06-2.06.94z\"/><path d=\"M17.41 7.96l-1.37-1.37c-.4-.4-.92-.59-1.43-.59-.52 0-1.04.2-1.43.59L10.3 9.45l-7.72 7.72c-.78.78-.78 2.05 0 2.83L4 21.41c.39.39.9.59 1.41.59.51 0 1.02-.2 1.41-.59l7.78-7.78 2.81-2.81c.8-.78.8-2.07 0-2.86zM5.41 20L4 18.59l7.72-7.72 1.47 1.35L5.41 20z\"/>\n",
              "  </svg>\n",
              "      </button>\n",
              "      \n",
              "  <style>\n",
              "    .colab-df-container {\n",
              "      display:flex;\n",
              "      flex-wrap:wrap;\n",
              "      gap: 12px;\n",
              "    }\n",
              "\n",
              "    .colab-df-convert {\n",
              "      background-color: #E8F0FE;\n",
              "      border: none;\n",
              "      border-radius: 50%;\n",
              "      cursor: pointer;\n",
              "      display: none;\n",
              "      fill: #1967D2;\n",
              "      height: 32px;\n",
              "      padding: 0 0 0 0;\n",
              "      width: 32px;\n",
              "    }\n",
              "\n",
              "    .colab-df-convert:hover {\n",
              "      background-color: #E2EBFA;\n",
              "      box-shadow: 0px 1px 2px rgba(60, 64, 67, 0.3), 0px 1px 3px 1px rgba(60, 64, 67, 0.15);\n",
              "      fill: #174EA6;\n",
              "    }\n",
              "\n",
              "    [theme=dark] .colab-df-convert {\n",
              "      background-color: #3B4455;\n",
              "      fill: #D2E3FC;\n",
              "    }\n",
              "\n",
              "    [theme=dark] .colab-df-convert:hover {\n",
              "      background-color: #434B5C;\n",
              "      box-shadow: 0px 1px 3px 1px rgba(0, 0, 0, 0.15);\n",
              "      filter: drop-shadow(0px 1px 2px rgba(0, 0, 0, 0.3));\n",
              "      fill: #FFFFFF;\n",
              "    }\n",
              "  </style>\n",
              "\n",
              "      <script>\n",
              "        const buttonEl =\n",
              "          document.querySelector('#df-f4ade843-2c76-46b0-aee5-8babc396ca8a button.colab-df-convert');\n",
              "        buttonEl.style.display =\n",
              "          google.colab.kernel.accessAllowed ? 'block' : 'none';\n",
              "\n",
              "        async function convertToInteractive(key) {\n",
              "          const element = document.querySelector('#df-f4ade843-2c76-46b0-aee5-8babc396ca8a');\n",
              "          const dataTable =\n",
              "            await google.colab.kernel.invokeFunction('convertToInteractive',\n",
              "                                                     [key], {});\n",
              "          if (!dataTable) return;\n",
              "\n",
              "          const docLinkHtml = 'Like what you see? Visit the ' +\n",
              "            '<a target=\"_blank\" href=https://colab.research.google.com/notebooks/data_table.ipynb>data table notebook</a>'\n",
              "            + ' to learn more about interactive tables.';\n",
              "          element.innerHTML = '';\n",
              "          dataTable['output_type'] = 'display_data';\n",
              "          await google.colab.output.renderOutput(dataTable, element);\n",
              "          const docLink = document.createElement('div');\n",
              "          docLink.innerHTML = docLinkHtml;\n",
              "          element.appendChild(docLink);\n",
              "        }\n",
              "      </script>\n",
              "    </div>\n",
              "  </div>\n",
              "  "
            ]
          },
          "metadata": {},
          "execution_count": 55
        }
      ]
    },
    {
      "cell_type": "code",
      "source": [
        "df=pd.read_csv('prime.csv',header=None)"
      ],
      "metadata": {
        "id": "yMYPXcnj_MMU"
      },
      "execution_count": 57,
      "outputs": []
    },
    {
      "cell_type": "code",
      "source": [
        "df.index"
      ],
      "metadata": {
        "id": "1AMP6CZX_fxF",
        "outputId": "96175c86-8456-4965-d041-e9fb7aae360a",
        "colab": {
          "base_uri": "https://localhost:8080/"
        }
      },
      "execution_count": 58,
      "outputs": [
        {
          "output_type": "execute_result",
          "data": {
            "text/plain": [
              "RangeIndex(start=0, stop=41999, step=1)"
            ]
          },
          "metadata": {},
          "execution_count": 58
        }
      ]
    },
    {
      "cell_type": "code",
      "source": [
        "df.columns"
      ],
      "metadata": {
        "id": "AKHakFIN_9Tb",
        "outputId": "73b979a9-4110-4085-c683-d376dc7c1fc6",
        "colab": {
          "base_uri": "https://localhost:8080/"
        }
      },
      "execution_count": 61,
      "outputs": [
        {
          "output_type": "execute_result",
          "data": {
            "text/plain": [
              "Int64Index([0, 1, 2, 3, 4, 5, 6, 7, 8, 9, 10], dtype='int64')"
            ]
          },
          "metadata": {},
          "execution_count": 61
        }
      ]
    },
    {
      "cell_type": "code",
      "source": [
        "df.shape"
      ],
      "metadata": {
        "id": "MIooKTLFAC8s",
        "outputId": "f8210058-bf53-4b79-d5e9-7d8042fc0b7b",
        "colab": {
          "base_uri": "https://localhost:8080/"
        }
      },
      "execution_count": 62,
      "outputs": [
        {
          "output_type": "execute_result",
          "data": {
            "text/plain": [
              "(41999, 11)"
            ]
          },
          "metadata": {},
          "execution_count": 62
        }
      ]
    },
    {
      "cell_type": "code",
      "source": [
        "df.axes"
      ],
      "metadata": {
        "id": "2qgoXYY6AVDh",
        "outputId": "15ad6e6e-7656-459a-aed8-3a6f844e6bd1",
        "colab": {
          "base_uri": "https://localhost:8080/"
        }
      },
      "execution_count": 63,
      "outputs": [
        {
          "output_type": "execute_result",
          "data": {
            "text/plain": [
              "[RangeIndex(start=0, stop=41999, step=1),\n",
              " Int64Index([0, 1, 2, 3, 4, 5, 6, 7, 8, 9, 10], dtype='int64')]"
            ]
          },
          "metadata": {},
          "execution_count": 63
        }
      ]
    },
    {
      "cell_type": "code",
      "source": [
        "df.empty"
      ],
      "metadata": {
        "id": "JLlOrBPUAaHH",
        "outputId": "c3774e6a-2ab5-4137-9eb5-06cf576c5ded",
        "colab": {
          "base_uri": "https://localhost:8080/"
        }
      },
      "execution_count": 64,
      "outputs": [
        {
          "output_type": "execute_result",
          "data": {
            "text/plain": [
              "False"
            ]
          },
          "metadata": {},
          "execution_count": 64
        }
      ]
    },
    {
      "cell_type": "code",
      "source": [
        "df.ndim"
      ],
      "metadata": {
        "id": "3qqCKb8gAdTv",
        "outputId": "9a431546-e1d9-4bc5-bb08-2f0058e5cfe2",
        "colab": {
          "base_uri": "https://localhost:8080/"
        }
      },
      "execution_count": 65,
      "outputs": [
        {
          "output_type": "execute_result",
          "data": {
            "text/plain": [
              "2"
            ]
          },
          "metadata": {},
          "execution_count": 65
        }
      ]
    },
    {
      "cell_type": "code",
      "source": [
        "df.dtypes"
      ],
      "metadata": {
        "id": "k2L63zXGAgaT",
        "outputId": "d600bc3d-ad7a-4d11-c9dc-f5a88f2739fd",
        "colab": {
          "base_uri": "https://localhost:8080/"
        }
      },
      "execution_count": 67,
      "outputs": [
        {
          "output_type": "execute_result",
          "data": {
            "text/plain": [
              "0       int64\n",
              "1       int64\n",
              "2       int64\n",
              "3     float64\n",
              "4     float64\n",
              "5     float64\n",
              "6     float64\n",
              "7     float64\n",
              "8     float64\n",
              "9     float64\n",
              "10     object\n",
              "dtype: object"
            ]
          },
          "metadata": {},
          "execution_count": 67
        }
      ]
    },
    {
      "cell_type": "code",
      "source": [
        "df.size"
      ],
      "metadata": {
        "id": "bGsVXYNQAm7m",
        "outputId": "b99f1d48-6ba3-496e-aed1-29633186e496",
        "colab": {
          "base_uri": "https://localhost:8080/"
        }
      },
      "execution_count": 70,
      "outputs": [
        {
          "output_type": "execute_result",
          "data": {
            "text/plain": [
              "461989"
            ]
          },
          "metadata": {},
          "execution_count": 70
        }
      ]
    },
    {
      "cell_type": "code",
      "source": [
        "df.loc[0:10]"
      ],
      "metadata": {
        "id": "mend2CcbBaVb",
        "outputId": "0b9496e2-36d2-42ed-df08-7b41218b8799",
        "colab": {
          "base_uri": "https://localhost:8080/",
          "height": 394
        }
      },
      "execution_count": 75,
      "outputs": [
        {
          "output_type": "execute_result",
          "data": {
            "text/plain": [
              "     0    1    2      3      4      5      6      7      8      9   10\n",
              "0     2    3    5    7.0   11.0   13.0   17.0   19.0   23.0   29.0    \n",
              "1    31   37   41   43.0   47.0   53.0   59.0   61.0   67.0   71.0    \n",
              "2    73   79   83   89.0   97.0  101.0  103.0  107.0  109.0  113.0    \n",
              "3   127  131  137  139.0  149.0  151.0  157.0  163.0  167.0  173.0    \n",
              "4   179  181  191  193.0  197.0  199.0  211.0  223.0  227.0  229.0    \n",
              "5   233  239  241  251.0  257.0  263.0  269.0  271.0  277.0  281.0    \n",
              "6   283  293  307  311.0  313.0  317.0  331.0  337.0  347.0  349.0    \n",
              "7   353  359  367  373.0  379.0  383.0  389.0  397.0  401.0  409.0    \n",
              "8   419  421  431  433.0  439.0  443.0  449.0  457.0  461.0  463.0    \n",
              "9   467  479  487  491.0  499.0  503.0  509.0  521.0  523.0  541.0    \n",
              "10  547  557  563  569.0  571.0  577.0  587.0  593.0  599.0  601.0    "
            ],
            "text/html": [
              "\n",
              "  <div id=\"df-3fccde5c-d9fa-4693-906d-e52e200943b9\">\n",
              "    <div class=\"colab-df-container\">\n",
              "      <div>\n",
              "<style scoped>\n",
              "    .dataframe tbody tr th:only-of-type {\n",
              "        vertical-align: middle;\n",
              "    }\n",
              "\n",
              "    .dataframe tbody tr th {\n",
              "        vertical-align: top;\n",
              "    }\n",
              "\n",
              "    .dataframe thead th {\n",
              "        text-align: right;\n",
              "    }\n",
              "</style>\n",
              "<table border=\"1\" class=\"dataframe\">\n",
              "  <thead>\n",
              "    <tr style=\"text-align: right;\">\n",
              "      <th></th>\n",
              "      <th>0</th>\n",
              "      <th>1</th>\n",
              "      <th>2</th>\n",
              "      <th>3</th>\n",
              "      <th>4</th>\n",
              "      <th>5</th>\n",
              "      <th>6</th>\n",
              "      <th>7</th>\n",
              "      <th>8</th>\n",
              "      <th>9</th>\n",
              "      <th>10</th>\n",
              "    </tr>\n",
              "  </thead>\n",
              "  <tbody>\n",
              "    <tr>\n",
              "      <th>0</th>\n",
              "      <td>2</td>\n",
              "      <td>3</td>\n",
              "      <td>5</td>\n",
              "      <td>7.0</td>\n",
              "      <td>11.0</td>\n",
              "      <td>13.0</td>\n",
              "      <td>17.0</td>\n",
              "      <td>19.0</td>\n",
              "      <td>23.0</td>\n",
              "      <td>29.0</td>\n",
              "      <td></td>\n",
              "    </tr>\n",
              "    <tr>\n",
              "      <th>1</th>\n",
              "      <td>31</td>\n",
              "      <td>37</td>\n",
              "      <td>41</td>\n",
              "      <td>43.0</td>\n",
              "      <td>47.0</td>\n",
              "      <td>53.0</td>\n",
              "      <td>59.0</td>\n",
              "      <td>61.0</td>\n",
              "      <td>67.0</td>\n",
              "      <td>71.0</td>\n",
              "      <td></td>\n",
              "    </tr>\n",
              "    <tr>\n",
              "      <th>2</th>\n",
              "      <td>73</td>\n",
              "      <td>79</td>\n",
              "      <td>83</td>\n",
              "      <td>89.0</td>\n",
              "      <td>97.0</td>\n",
              "      <td>101.0</td>\n",
              "      <td>103.0</td>\n",
              "      <td>107.0</td>\n",
              "      <td>109.0</td>\n",
              "      <td>113.0</td>\n",
              "      <td></td>\n",
              "    </tr>\n",
              "    <tr>\n",
              "      <th>3</th>\n",
              "      <td>127</td>\n",
              "      <td>131</td>\n",
              "      <td>137</td>\n",
              "      <td>139.0</td>\n",
              "      <td>149.0</td>\n",
              "      <td>151.0</td>\n",
              "      <td>157.0</td>\n",
              "      <td>163.0</td>\n",
              "      <td>167.0</td>\n",
              "      <td>173.0</td>\n",
              "      <td></td>\n",
              "    </tr>\n",
              "    <tr>\n",
              "      <th>4</th>\n",
              "      <td>179</td>\n",
              "      <td>181</td>\n",
              "      <td>191</td>\n",
              "      <td>193.0</td>\n",
              "      <td>197.0</td>\n",
              "      <td>199.0</td>\n",
              "      <td>211.0</td>\n",
              "      <td>223.0</td>\n",
              "      <td>227.0</td>\n",
              "      <td>229.0</td>\n",
              "      <td></td>\n",
              "    </tr>\n",
              "    <tr>\n",
              "      <th>5</th>\n",
              "      <td>233</td>\n",
              "      <td>239</td>\n",
              "      <td>241</td>\n",
              "      <td>251.0</td>\n",
              "      <td>257.0</td>\n",
              "      <td>263.0</td>\n",
              "      <td>269.0</td>\n",
              "      <td>271.0</td>\n",
              "      <td>277.0</td>\n",
              "      <td>281.0</td>\n",
              "      <td></td>\n",
              "    </tr>\n",
              "    <tr>\n",
              "      <th>6</th>\n",
              "      <td>283</td>\n",
              "      <td>293</td>\n",
              "      <td>307</td>\n",
              "      <td>311.0</td>\n",
              "      <td>313.0</td>\n",
              "      <td>317.0</td>\n",
              "      <td>331.0</td>\n",
              "      <td>337.0</td>\n",
              "      <td>347.0</td>\n",
              "      <td>349.0</td>\n",
              "      <td></td>\n",
              "    </tr>\n",
              "    <tr>\n",
              "      <th>7</th>\n",
              "      <td>353</td>\n",
              "      <td>359</td>\n",
              "      <td>367</td>\n",
              "      <td>373.0</td>\n",
              "      <td>379.0</td>\n",
              "      <td>383.0</td>\n",
              "      <td>389.0</td>\n",
              "      <td>397.0</td>\n",
              "      <td>401.0</td>\n",
              "      <td>409.0</td>\n",
              "      <td></td>\n",
              "    </tr>\n",
              "    <tr>\n",
              "      <th>8</th>\n",
              "      <td>419</td>\n",
              "      <td>421</td>\n",
              "      <td>431</td>\n",
              "      <td>433.0</td>\n",
              "      <td>439.0</td>\n",
              "      <td>443.0</td>\n",
              "      <td>449.0</td>\n",
              "      <td>457.0</td>\n",
              "      <td>461.0</td>\n",
              "      <td>463.0</td>\n",
              "      <td></td>\n",
              "    </tr>\n",
              "    <tr>\n",
              "      <th>9</th>\n",
              "      <td>467</td>\n",
              "      <td>479</td>\n",
              "      <td>487</td>\n",
              "      <td>491.0</td>\n",
              "      <td>499.0</td>\n",
              "      <td>503.0</td>\n",
              "      <td>509.0</td>\n",
              "      <td>521.0</td>\n",
              "      <td>523.0</td>\n",
              "      <td>541.0</td>\n",
              "      <td></td>\n",
              "    </tr>\n",
              "    <tr>\n",
              "      <th>10</th>\n",
              "      <td>547</td>\n",
              "      <td>557</td>\n",
              "      <td>563</td>\n",
              "      <td>569.0</td>\n",
              "      <td>571.0</td>\n",
              "      <td>577.0</td>\n",
              "      <td>587.0</td>\n",
              "      <td>593.0</td>\n",
              "      <td>599.0</td>\n",
              "      <td>601.0</td>\n",
              "      <td></td>\n",
              "    </tr>\n",
              "  </tbody>\n",
              "</table>\n",
              "</div>\n",
              "      <button class=\"colab-df-convert\" onclick=\"convertToInteractive('df-3fccde5c-d9fa-4693-906d-e52e200943b9')\"\n",
              "              title=\"Convert this dataframe to an interactive table.\"\n",
              "              style=\"display:none;\">\n",
              "        \n",
              "  <svg xmlns=\"http://www.w3.org/2000/svg\" height=\"24px\"viewBox=\"0 0 24 24\"\n",
              "       width=\"24px\">\n",
              "    <path d=\"M0 0h24v24H0V0z\" fill=\"none\"/>\n",
              "    <path d=\"M18.56 5.44l.94 2.06.94-2.06 2.06-.94-2.06-.94-.94-2.06-.94 2.06-2.06.94zm-11 1L8.5 8.5l.94-2.06 2.06-.94-2.06-.94L8.5 2.5l-.94 2.06-2.06.94zm10 10l.94 2.06.94-2.06 2.06-.94-2.06-.94-.94-2.06-.94 2.06-2.06.94z\"/><path d=\"M17.41 7.96l-1.37-1.37c-.4-.4-.92-.59-1.43-.59-.52 0-1.04.2-1.43.59L10.3 9.45l-7.72 7.72c-.78.78-.78 2.05 0 2.83L4 21.41c.39.39.9.59 1.41.59.51 0 1.02-.2 1.41-.59l7.78-7.78 2.81-2.81c.8-.78.8-2.07 0-2.86zM5.41 20L4 18.59l7.72-7.72 1.47 1.35L5.41 20z\"/>\n",
              "  </svg>\n",
              "      </button>\n",
              "      \n",
              "  <style>\n",
              "    .colab-df-container {\n",
              "      display:flex;\n",
              "      flex-wrap:wrap;\n",
              "      gap: 12px;\n",
              "    }\n",
              "\n",
              "    .colab-df-convert {\n",
              "      background-color: #E8F0FE;\n",
              "      border: none;\n",
              "      border-radius: 50%;\n",
              "      cursor: pointer;\n",
              "      display: none;\n",
              "      fill: #1967D2;\n",
              "      height: 32px;\n",
              "      padding: 0 0 0 0;\n",
              "      width: 32px;\n",
              "    }\n",
              "\n",
              "    .colab-df-convert:hover {\n",
              "      background-color: #E2EBFA;\n",
              "      box-shadow: 0px 1px 2px rgba(60, 64, 67, 0.3), 0px 1px 3px 1px rgba(60, 64, 67, 0.15);\n",
              "      fill: #174EA6;\n",
              "    }\n",
              "\n",
              "    [theme=dark] .colab-df-convert {\n",
              "      background-color: #3B4455;\n",
              "      fill: #D2E3FC;\n",
              "    }\n",
              "\n",
              "    [theme=dark] .colab-df-convert:hover {\n",
              "      background-color: #434B5C;\n",
              "      box-shadow: 0px 1px 3px 1px rgba(0, 0, 0, 0.15);\n",
              "      filter: drop-shadow(0px 1px 2px rgba(0, 0, 0, 0.3));\n",
              "      fill: #FFFFFF;\n",
              "    }\n",
              "  </style>\n",
              "\n",
              "      <script>\n",
              "        const buttonEl =\n",
              "          document.querySelector('#df-3fccde5c-d9fa-4693-906d-e52e200943b9 button.colab-df-convert');\n",
              "        buttonEl.style.display =\n",
              "          google.colab.kernel.accessAllowed ? 'block' : 'none';\n",
              "\n",
              "        async function convertToInteractive(key) {\n",
              "          const element = document.querySelector('#df-3fccde5c-d9fa-4693-906d-e52e200943b9');\n",
              "          const dataTable =\n",
              "            await google.colab.kernel.invokeFunction('convertToInteractive',\n",
              "                                                     [key], {});\n",
              "          if (!dataTable) return;\n",
              "\n",
              "          const docLinkHtml = 'Like what you see? Visit the ' +\n",
              "            '<a target=\"_blank\" href=https://colab.research.google.com/notebooks/data_table.ipynb>data table notebook</a>'\n",
              "            + ' to learn more about interactive tables.';\n",
              "          element.innerHTML = '';\n",
              "          dataTable['output_type'] = 'display_data';\n",
              "          await google.colab.output.renderOutput(dataTable, element);\n",
              "          const docLink = document.createElement('div');\n",
              "          docLink.innerHTML = docLinkHtml;\n",
              "          element.appendChild(docLink);\n",
              "        }\n",
              "      </script>\n",
              "    </div>\n",
              "  </div>\n",
              "  "
            ]
          },
          "metadata": {},
          "execution_count": 75
        }
      ]
    },
    {
      "cell_type": "code",
      "source": [
        "df.loc[1,[2,5]]"
      ],
      "metadata": {
        "id": "n13VBIznC9BX",
        "outputId": "4d880cdc-18e7-414a-c3b1-70406ee14ff6",
        "colab": {
          "base_uri": "https://localhost:8080/"
        }
      },
      "execution_count": 79,
      "outputs": [
        {
          "output_type": "execute_result",
          "data": {
            "text/plain": [
              "2      41\n",
              "5    53.0\n",
              "Name: 1, dtype: object"
            ]
          },
          "metadata": {},
          "execution_count": 79
        }
      ]
    },
    {
      "cell_type": "code",
      "source": [
        "df.loc[:,1]"
      ],
      "metadata": {
        "id": "TDb8aEauD9lX",
        "outputId": "4cdda194-3162-4fcc-de21-2d891145ea4d",
        "colab": {
          "base_uri": "https://localhost:8080/"
        }
      },
      "execution_count": 80,
      "outputs": [
        {
          "output_type": "execute_result",
          "data": {
            "text/plain": [
              "0              3\n",
              "1             37\n",
              "2             79\n",
              "3            131\n",
              "4            181\n",
              "          ...   \n",
              "41994    6110519\n",
              "41995    6110623\n",
              "41996    6110831\n",
              "41997    6111011\n",
              "41998    6111167\n",
              "Name: 1, Length: 41999, dtype: int64"
            ]
          },
          "metadata": {},
          "execution_count": 80
        }
      ]
    },
    {
      "cell_type": "code",
      "source": [
        "df.iloc[-1,:]"
      ],
      "metadata": {
        "id": "3f6WCFFBEv3s",
        "outputId": "c9b9ca16-38fd-47b2-e348-0c1884dbdd9e",
        "colab": {
          "base_uri": "https://localhost:8080/"
        }
      },
      "execution_count": 82,
      "outputs": [
        {
          "output_type": "execute_result",
          "data": {
            "text/plain": [
              "0     6111151\n",
              "1     6111167\n",
              "2        6111\n",
              "3         NaN\n",
              "4         NaN\n",
              "5         NaN\n",
              "6         NaN\n",
              "7         NaN\n",
              "8         NaN\n",
              "9         NaN\n",
              "10        NaN\n",
              "Name: 41998, dtype: object"
            ]
          },
          "metadata": {},
          "execution_count": 82
        }
      ]
    },
    {
      "cell_type": "code",
      "source": [
        "df.iloc[0:100,0:]"
      ],
      "metadata": {
        "id": "mZFgR3f3E6rv",
        "outputId": "add9ba89-64f4-403b-9249-b5d36d4ee349",
        "colab": {
          "base_uri": "https://localhost:8080/",
          "height": 655
        }
      },
      "execution_count": 84,
      "outputs": [
        {
          "output_type": "execute_result",
          "data": {
            "text/plain": [
              "      0     1     2       3       4       5       6       7       8       9   \\\n",
              "0      2     3     5     7.0    11.0    13.0    17.0    19.0    23.0    29.0   \n",
              "1     31    37    41    43.0    47.0    53.0    59.0    61.0    67.0    71.0   \n",
              "2     73    79    83    89.0    97.0   101.0   103.0   107.0   109.0   113.0   \n",
              "3    127   131   137   139.0   149.0   151.0   157.0   163.0   167.0   173.0   \n",
              "4    179   181   191   193.0   197.0   199.0   211.0   223.0   227.0   229.0   \n",
              "..   ...   ...   ...     ...     ...     ...     ...     ...     ...     ...   \n",
              "95  7507  7517  7523  7529.0  7537.0  7541.0  7547.0  7549.0  7559.0  7561.0   \n",
              "96  7573  7577  7583  7589.0  7591.0  7603.0  7607.0  7621.0  7639.0  7643.0   \n",
              "97  7649  7669  7673  7681.0  7687.0  7691.0  7699.0  7703.0  7717.0  7723.0   \n",
              "98  7727  7741  7753  7757.0  7759.0  7789.0  7793.0  7817.0  7823.0  7829.0   \n",
              "99  7841  7853  7867  7873.0  7877.0  7879.0  7883.0  7901.0  7907.0  7919.0   \n",
              "\n",
              "    10  \n",
              "0       \n",
              "1       \n",
              "2       \n",
              "3       \n",
              "4       \n",
              "..  ..  \n",
              "95      \n",
              "96      \n",
              "97      \n",
              "98      \n",
              "99      \n",
              "\n",
              "[100 rows x 11 columns]"
            ],
            "text/html": [
              "\n",
              "  <div id=\"df-e587c96c-cad8-4aa6-82a4-300efa547925\">\n",
              "    <div class=\"colab-df-container\">\n",
              "      <div>\n",
              "<style scoped>\n",
              "    .dataframe tbody tr th:only-of-type {\n",
              "        vertical-align: middle;\n",
              "    }\n",
              "\n",
              "    .dataframe tbody tr th {\n",
              "        vertical-align: top;\n",
              "    }\n",
              "\n",
              "    .dataframe thead th {\n",
              "        text-align: right;\n",
              "    }\n",
              "</style>\n",
              "<table border=\"1\" class=\"dataframe\">\n",
              "  <thead>\n",
              "    <tr style=\"text-align: right;\">\n",
              "      <th></th>\n",
              "      <th>0</th>\n",
              "      <th>1</th>\n",
              "      <th>2</th>\n",
              "      <th>3</th>\n",
              "      <th>4</th>\n",
              "      <th>5</th>\n",
              "      <th>6</th>\n",
              "      <th>7</th>\n",
              "      <th>8</th>\n",
              "      <th>9</th>\n",
              "      <th>10</th>\n",
              "    </tr>\n",
              "  </thead>\n",
              "  <tbody>\n",
              "    <tr>\n",
              "      <th>0</th>\n",
              "      <td>2</td>\n",
              "      <td>3</td>\n",
              "      <td>5</td>\n",
              "      <td>7.0</td>\n",
              "      <td>11.0</td>\n",
              "      <td>13.0</td>\n",
              "      <td>17.0</td>\n",
              "      <td>19.0</td>\n",
              "      <td>23.0</td>\n",
              "      <td>29.0</td>\n",
              "      <td></td>\n",
              "    </tr>\n",
              "    <tr>\n",
              "      <th>1</th>\n",
              "      <td>31</td>\n",
              "      <td>37</td>\n",
              "      <td>41</td>\n",
              "      <td>43.0</td>\n",
              "      <td>47.0</td>\n",
              "      <td>53.0</td>\n",
              "      <td>59.0</td>\n",
              "      <td>61.0</td>\n",
              "      <td>67.0</td>\n",
              "      <td>71.0</td>\n",
              "      <td></td>\n",
              "    </tr>\n",
              "    <tr>\n",
              "      <th>2</th>\n",
              "      <td>73</td>\n",
              "      <td>79</td>\n",
              "      <td>83</td>\n",
              "      <td>89.0</td>\n",
              "      <td>97.0</td>\n",
              "      <td>101.0</td>\n",
              "      <td>103.0</td>\n",
              "      <td>107.0</td>\n",
              "      <td>109.0</td>\n",
              "      <td>113.0</td>\n",
              "      <td></td>\n",
              "    </tr>\n",
              "    <tr>\n",
              "      <th>3</th>\n",
              "      <td>127</td>\n",
              "      <td>131</td>\n",
              "      <td>137</td>\n",
              "      <td>139.0</td>\n",
              "      <td>149.0</td>\n",
              "      <td>151.0</td>\n",
              "      <td>157.0</td>\n",
              "      <td>163.0</td>\n",
              "      <td>167.0</td>\n",
              "      <td>173.0</td>\n",
              "      <td></td>\n",
              "    </tr>\n",
              "    <tr>\n",
              "      <th>4</th>\n",
              "      <td>179</td>\n",
              "      <td>181</td>\n",
              "      <td>191</td>\n",
              "      <td>193.0</td>\n",
              "      <td>197.0</td>\n",
              "      <td>199.0</td>\n",
              "      <td>211.0</td>\n",
              "      <td>223.0</td>\n",
              "      <td>227.0</td>\n",
              "      <td>229.0</td>\n",
              "      <td></td>\n",
              "    </tr>\n",
              "    <tr>\n",
              "      <th>...</th>\n",
              "      <td>...</td>\n",
              "      <td>...</td>\n",
              "      <td>...</td>\n",
              "      <td>...</td>\n",
              "      <td>...</td>\n",
              "      <td>...</td>\n",
              "      <td>...</td>\n",
              "      <td>...</td>\n",
              "      <td>...</td>\n",
              "      <td>...</td>\n",
              "      <td>...</td>\n",
              "    </tr>\n",
              "    <tr>\n",
              "      <th>95</th>\n",
              "      <td>7507</td>\n",
              "      <td>7517</td>\n",
              "      <td>7523</td>\n",
              "      <td>7529.0</td>\n",
              "      <td>7537.0</td>\n",
              "      <td>7541.0</td>\n",
              "      <td>7547.0</td>\n",
              "      <td>7549.0</td>\n",
              "      <td>7559.0</td>\n",
              "      <td>7561.0</td>\n",
              "      <td></td>\n",
              "    </tr>\n",
              "    <tr>\n",
              "      <th>96</th>\n",
              "      <td>7573</td>\n",
              "      <td>7577</td>\n",
              "      <td>7583</td>\n",
              "      <td>7589.0</td>\n",
              "      <td>7591.0</td>\n",
              "      <td>7603.0</td>\n",
              "      <td>7607.0</td>\n",
              "      <td>7621.0</td>\n",
              "      <td>7639.0</td>\n",
              "      <td>7643.0</td>\n",
              "      <td></td>\n",
              "    </tr>\n",
              "    <tr>\n",
              "      <th>97</th>\n",
              "      <td>7649</td>\n",
              "      <td>7669</td>\n",
              "      <td>7673</td>\n",
              "      <td>7681.0</td>\n",
              "      <td>7687.0</td>\n",
              "      <td>7691.0</td>\n",
              "      <td>7699.0</td>\n",
              "      <td>7703.0</td>\n",
              "      <td>7717.0</td>\n",
              "      <td>7723.0</td>\n",
              "      <td></td>\n",
              "    </tr>\n",
              "    <tr>\n",
              "      <th>98</th>\n",
              "      <td>7727</td>\n",
              "      <td>7741</td>\n",
              "      <td>7753</td>\n",
              "      <td>7757.0</td>\n",
              "      <td>7759.0</td>\n",
              "      <td>7789.0</td>\n",
              "      <td>7793.0</td>\n",
              "      <td>7817.0</td>\n",
              "      <td>7823.0</td>\n",
              "      <td>7829.0</td>\n",
              "      <td></td>\n",
              "    </tr>\n",
              "    <tr>\n",
              "      <th>99</th>\n",
              "      <td>7841</td>\n",
              "      <td>7853</td>\n",
              "      <td>7867</td>\n",
              "      <td>7873.0</td>\n",
              "      <td>7877.0</td>\n",
              "      <td>7879.0</td>\n",
              "      <td>7883.0</td>\n",
              "      <td>7901.0</td>\n",
              "      <td>7907.0</td>\n",
              "      <td>7919.0</td>\n",
              "      <td></td>\n",
              "    </tr>\n",
              "  </tbody>\n",
              "</table>\n",
              "<p>100 rows × 11 columns</p>\n",
              "</div>\n",
              "      <button class=\"colab-df-convert\" onclick=\"convertToInteractive('df-e587c96c-cad8-4aa6-82a4-300efa547925')\"\n",
              "              title=\"Convert this dataframe to an interactive table.\"\n",
              "              style=\"display:none;\">\n",
              "        \n",
              "  <svg xmlns=\"http://www.w3.org/2000/svg\" height=\"24px\"viewBox=\"0 0 24 24\"\n",
              "       width=\"24px\">\n",
              "    <path d=\"M0 0h24v24H0V0z\" fill=\"none\"/>\n",
              "    <path d=\"M18.56 5.44l.94 2.06.94-2.06 2.06-.94-2.06-.94-.94-2.06-.94 2.06-2.06.94zm-11 1L8.5 8.5l.94-2.06 2.06-.94-2.06-.94L8.5 2.5l-.94 2.06-2.06.94zm10 10l.94 2.06.94-2.06 2.06-.94-2.06-.94-.94-2.06-.94 2.06-2.06.94z\"/><path d=\"M17.41 7.96l-1.37-1.37c-.4-.4-.92-.59-1.43-.59-.52 0-1.04.2-1.43.59L10.3 9.45l-7.72 7.72c-.78.78-.78 2.05 0 2.83L4 21.41c.39.39.9.59 1.41.59.51 0 1.02-.2 1.41-.59l7.78-7.78 2.81-2.81c.8-.78.8-2.07 0-2.86zM5.41 20L4 18.59l7.72-7.72 1.47 1.35L5.41 20z\"/>\n",
              "  </svg>\n",
              "      </button>\n",
              "      \n",
              "  <style>\n",
              "    .colab-df-container {\n",
              "      display:flex;\n",
              "      flex-wrap:wrap;\n",
              "      gap: 12px;\n",
              "    }\n",
              "\n",
              "    .colab-df-convert {\n",
              "      background-color: #E8F0FE;\n",
              "      border: none;\n",
              "      border-radius: 50%;\n",
              "      cursor: pointer;\n",
              "      display: none;\n",
              "      fill: #1967D2;\n",
              "      height: 32px;\n",
              "      padding: 0 0 0 0;\n",
              "      width: 32px;\n",
              "    }\n",
              "\n",
              "    .colab-df-convert:hover {\n",
              "      background-color: #E2EBFA;\n",
              "      box-shadow: 0px 1px 2px rgba(60, 64, 67, 0.3), 0px 1px 3px 1px rgba(60, 64, 67, 0.15);\n",
              "      fill: #174EA6;\n",
              "    }\n",
              "\n",
              "    [theme=dark] .colab-df-convert {\n",
              "      background-color: #3B4455;\n",
              "      fill: #D2E3FC;\n",
              "    }\n",
              "\n",
              "    [theme=dark] .colab-df-convert:hover {\n",
              "      background-color: #434B5C;\n",
              "      box-shadow: 0px 1px 3px 1px rgba(0, 0, 0, 0.15);\n",
              "      filter: drop-shadow(0px 1px 2px rgba(0, 0, 0, 0.3));\n",
              "      fill: #FFFFFF;\n",
              "    }\n",
              "  </style>\n",
              "\n",
              "      <script>\n",
              "        const buttonEl =\n",
              "          document.querySelector('#df-e587c96c-cad8-4aa6-82a4-300efa547925 button.colab-df-convert');\n",
              "        buttonEl.style.display =\n",
              "          google.colab.kernel.accessAllowed ? 'block' : 'none';\n",
              "\n",
              "        async function convertToInteractive(key) {\n",
              "          const element = document.querySelector('#df-e587c96c-cad8-4aa6-82a4-300efa547925');\n",
              "          const dataTable =\n",
              "            await google.colab.kernel.invokeFunction('convertToInteractive',\n",
              "                                                     [key], {});\n",
              "          if (!dataTable) return;\n",
              "\n",
              "          const docLinkHtml = 'Like what you see? Visit the ' +\n",
              "            '<a target=\"_blank\" href=https://colab.research.google.com/notebooks/data_table.ipynb>data table notebook</a>'\n",
              "            + ' to learn more about interactive tables.';\n",
              "          element.innerHTML = '';\n",
              "          dataTable['output_type'] = 'display_data';\n",
              "          await google.colab.output.renderOutput(dataTable, element);\n",
              "          const docLink = document.createElement('div');\n",
              "          docLink.innerHTML = docLinkHtml;\n",
              "          element.appendChild(docLink);\n",
              "        }\n",
              "      </script>\n",
              "    </div>\n",
              "  </div>\n",
              "  "
            ]
          },
          "metadata": {},
          "execution_count": 84
        }
      ]
    },
    {
      "cell_type": "code",
      "source": [
        "del df[0]"
      ],
      "metadata": {
        "id": "rsyyJCsJFT6G"
      },
      "execution_count": 85,
      "outputs": []
    },
    {
      "cell_type": "code",
      "source": [
        "df"
      ],
      "metadata": {
        "id": "7nn3RZJgFnXJ",
        "outputId": "7186a833-6775-405d-b569-e822a696cc06",
        "colab": {
          "base_uri": "https://localhost:8080/",
          "height": 424
        }
      },
      "execution_count": 86,
      "outputs": [
        {
          "output_type": "execute_result",
          "data": {
            "text/plain": [
              "            1        2          3          4          5          6   \\\n",
              "0            3        5        7.0       11.0       13.0       17.0   \n",
              "1           37       41       43.0       47.0       53.0       59.0   \n",
              "2           79       83       89.0       97.0      101.0      103.0   \n",
              "3          131      137      139.0      149.0      151.0      157.0   \n",
              "4          181      191      193.0      197.0      199.0      211.0   \n",
              "...        ...      ...        ...        ...        ...        ...   \n",
              "41994  6110519  6110521  6110527.0  6110549.0  6110551.0  6110563.0   \n",
              "41995  6110623  6110683  6110711.0  6110717.0  6110719.0  6110747.0   \n",
              "41996  6110831  6110843  6110861.0  6110933.0  6110941.0  6110969.0   \n",
              "41997  6111011  6111013  6111023.0  6111029.0  6111047.0  6111071.0   \n",
              "41998  6111167     6111        NaN        NaN        NaN        NaN   \n",
              "\n",
              "              7          8          9    10  \n",
              "0           19.0       23.0       29.0       \n",
              "1           61.0       67.0       71.0       \n",
              "2          107.0      109.0      113.0       \n",
              "3          163.0      167.0      173.0       \n",
              "4          223.0      227.0      229.0       \n",
              "...          ...        ...        ...  ...  \n",
              "41994  6110567.0  6110569.0  6110581.0       \n",
              "41995  6110749.0  6110777.0  6110789.0       \n",
              "41996  6110971.0  6110977.0  6110981.0       \n",
              "41997  6111073.0  6111089.0  6111139.0       \n",
              "41998        NaN        NaN        NaN  NaN  \n",
              "\n",
              "[41999 rows x 10 columns]"
            ],
            "text/html": [
              "\n",
              "  <div id=\"df-c472a9c8-6cc8-4737-ab55-96e4f5622a41\">\n",
              "    <div class=\"colab-df-container\">\n",
              "      <div>\n",
              "<style scoped>\n",
              "    .dataframe tbody tr th:only-of-type {\n",
              "        vertical-align: middle;\n",
              "    }\n",
              "\n",
              "    .dataframe tbody tr th {\n",
              "        vertical-align: top;\n",
              "    }\n",
              "\n",
              "    .dataframe thead th {\n",
              "        text-align: right;\n",
              "    }\n",
              "</style>\n",
              "<table border=\"1\" class=\"dataframe\">\n",
              "  <thead>\n",
              "    <tr style=\"text-align: right;\">\n",
              "      <th></th>\n",
              "      <th>1</th>\n",
              "      <th>2</th>\n",
              "      <th>3</th>\n",
              "      <th>4</th>\n",
              "      <th>5</th>\n",
              "      <th>6</th>\n",
              "      <th>7</th>\n",
              "      <th>8</th>\n",
              "      <th>9</th>\n",
              "      <th>10</th>\n",
              "    </tr>\n",
              "  </thead>\n",
              "  <tbody>\n",
              "    <tr>\n",
              "      <th>0</th>\n",
              "      <td>3</td>\n",
              "      <td>5</td>\n",
              "      <td>7.0</td>\n",
              "      <td>11.0</td>\n",
              "      <td>13.0</td>\n",
              "      <td>17.0</td>\n",
              "      <td>19.0</td>\n",
              "      <td>23.0</td>\n",
              "      <td>29.0</td>\n",
              "      <td></td>\n",
              "    </tr>\n",
              "    <tr>\n",
              "      <th>1</th>\n",
              "      <td>37</td>\n",
              "      <td>41</td>\n",
              "      <td>43.0</td>\n",
              "      <td>47.0</td>\n",
              "      <td>53.0</td>\n",
              "      <td>59.0</td>\n",
              "      <td>61.0</td>\n",
              "      <td>67.0</td>\n",
              "      <td>71.0</td>\n",
              "      <td></td>\n",
              "    </tr>\n",
              "    <tr>\n",
              "      <th>2</th>\n",
              "      <td>79</td>\n",
              "      <td>83</td>\n",
              "      <td>89.0</td>\n",
              "      <td>97.0</td>\n",
              "      <td>101.0</td>\n",
              "      <td>103.0</td>\n",
              "      <td>107.0</td>\n",
              "      <td>109.0</td>\n",
              "      <td>113.0</td>\n",
              "      <td></td>\n",
              "    </tr>\n",
              "    <tr>\n",
              "      <th>3</th>\n",
              "      <td>131</td>\n",
              "      <td>137</td>\n",
              "      <td>139.0</td>\n",
              "      <td>149.0</td>\n",
              "      <td>151.0</td>\n",
              "      <td>157.0</td>\n",
              "      <td>163.0</td>\n",
              "      <td>167.0</td>\n",
              "      <td>173.0</td>\n",
              "      <td></td>\n",
              "    </tr>\n",
              "    <tr>\n",
              "      <th>4</th>\n",
              "      <td>181</td>\n",
              "      <td>191</td>\n",
              "      <td>193.0</td>\n",
              "      <td>197.0</td>\n",
              "      <td>199.0</td>\n",
              "      <td>211.0</td>\n",
              "      <td>223.0</td>\n",
              "      <td>227.0</td>\n",
              "      <td>229.0</td>\n",
              "      <td></td>\n",
              "    </tr>\n",
              "    <tr>\n",
              "      <th>...</th>\n",
              "      <td>...</td>\n",
              "      <td>...</td>\n",
              "      <td>...</td>\n",
              "      <td>...</td>\n",
              "      <td>...</td>\n",
              "      <td>...</td>\n",
              "      <td>...</td>\n",
              "      <td>...</td>\n",
              "      <td>...</td>\n",
              "      <td>...</td>\n",
              "    </tr>\n",
              "    <tr>\n",
              "      <th>41994</th>\n",
              "      <td>6110519</td>\n",
              "      <td>6110521</td>\n",
              "      <td>6110527.0</td>\n",
              "      <td>6110549.0</td>\n",
              "      <td>6110551.0</td>\n",
              "      <td>6110563.0</td>\n",
              "      <td>6110567.0</td>\n",
              "      <td>6110569.0</td>\n",
              "      <td>6110581.0</td>\n",
              "      <td></td>\n",
              "    </tr>\n",
              "    <tr>\n",
              "      <th>41995</th>\n",
              "      <td>6110623</td>\n",
              "      <td>6110683</td>\n",
              "      <td>6110711.0</td>\n",
              "      <td>6110717.0</td>\n",
              "      <td>6110719.0</td>\n",
              "      <td>6110747.0</td>\n",
              "      <td>6110749.0</td>\n",
              "      <td>6110777.0</td>\n",
              "      <td>6110789.0</td>\n",
              "      <td></td>\n",
              "    </tr>\n",
              "    <tr>\n",
              "      <th>41996</th>\n",
              "      <td>6110831</td>\n",
              "      <td>6110843</td>\n",
              "      <td>6110861.0</td>\n",
              "      <td>6110933.0</td>\n",
              "      <td>6110941.0</td>\n",
              "      <td>6110969.0</td>\n",
              "      <td>6110971.0</td>\n",
              "      <td>6110977.0</td>\n",
              "      <td>6110981.0</td>\n",
              "      <td></td>\n",
              "    </tr>\n",
              "    <tr>\n",
              "      <th>41997</th>\n",
              "      <td>6111011</td>\n",
              "      <td>6111013</td>\n",
              "      <td>6111023.0</td>\n",
              "      <td>6111029.0</td>\n",
              "      <td>6111047.0</td>\n",
              "      <td>6111071.0</td>\n",
              "      <td>6111073.0</td>\n",
              "      <td>6111089.0</td>\n",
              "      <td>6111139.0</td>\n",
              "      <td></td>\n",
              "    </tr>\n",
              "    <tr>\n",
              "      <th>41998</th>\n",
              "      <td>6111167</td>\n",
              "      <td>6111</td>\n",
              "      <td>NaN</td>\n",
              "      <td>NaN</td>\n",
              "      <td>NaN</td>\n",
              "      <td>NaN</td>\n",
              "      <td>NaN</td>\n",
              "      <td>NaN</td>\n",
              "      <td>NaN</td>\n",
              "      <td>NaN</td>\n",
              "    </tr>\n",
              "  </tbody>\n",
              "</table>\n",
              "<p>41999 rows × 10 columns</p>\n",
              "</div>\n",
              "      <button class=\"colab-df-convert\" onclick=\"convertToInteractive('df-c472a9c8-6cc8-4737-ab55-96e4f5622a41')\"\n",
              "              title=\"Convert this dataframe to an interactive table.\"\n",
              "              style=\"display:none;\">\n",
              "        \n",
              "  <svg xmlns=\"http://www.w3.org/2000/svg\" height=\"24px\"viewBox=\"0 0 24 24\"\n",
              "       width=\"24px\">\n",
              "    <path d=\"M0 0h24v24H0V0z\" fill=\"none\"/>\n",
              "    <path d=\"M18.56 5.44l.94 2.06.94-2.06 2.06-.94-2.06-.94-.94-2.06-.94 2.06-2.06.94zm-11 1L8.5 8.5l.94-2.06 2.06-.94-2.06-.94L8.5 2.5l-.94 2.06-2.06.94zm10 10l.94 2.06.94-2.06 2.06-.94-2.06-.94-.94-2.06-.94 2.06-2.06.94z\"/><path d=\"M17.41 7.96l-1.37-1.37c-.4-.4-.92-.59-1.43-.59-.52 0-1.04.2-1.43.59L10.3 9.45l-7.72 7.72c-.78.78-.78 2.05 0 2.83L4 21.41c.39.39.9.59 1.41.59.51 0 1.02-.2 1.41-.59l7.78-7.78 2.81-2.81c.8-.78.8-2.07 0-2.86zM5.41 20L4 18.59l7.72-7.72 1.47 1.35L5.41 20z\"/>\n",
              "  </svg>\n",
              "      </button>\n",
              "      \n",
              "  <style>\n",
              "    .colab-df-container {\n",
              "      display:flex;\n",
              "      flex-wrap:wrap;\n",
              "      gap: 12px;\n",
              "    }\n",
              "\n",
              "    .colab-df-convert {\n",
              "      background-color: #E8F0FE;\n",
              "      border: none;\n",
              "      border-radius: 50%;\n",
              "      cursor: pointer;\n",
              "      display: none;\n",
              "      fill: #1967D2;\n",
              "      height: 32px;\n",
              "      padding: 0 0 0 0;\n",
              "      width: 32px;\n",
              "    }\n",
              "\n",
              "    .colab-df-convert:hover {\n",
              "      background-color: #E2EBFA;\n",
              "      box-shadow: 0px 1px 2px rgba(60, 64, 67, 0.3), 0px 1px 3px 1px rgba(60, 64, 67, 0.15);\n",
              "      fill: #174EA6;\n",
              "    }\n",
              "\n",
              "    [theme=dark] .colab-df-convert {\n",
              "      background-color: #3B4455;\n",
              "      fill: #D2E3FC;\n",
              "    }\n",
              "\n",
              "    [theme=dark] .colab-df-convert:hover {\n",
              "      background-color: #434B5C;\n",
              "      box-shadow: 0px 1px 3px 1px rgba(0, 0, 0, 0.15);\n",
              "      filter: drop-shadow(0px 1px 2px rgba(0, 0, 0, 0.3));\n",
              "      fill: #FFFFFF;\n",
              "    }\n",
              "  </style>\n",
              "\n",
              "      <script>\n",
              "        const buttonEl =\n",
              "          document.querySelector('#df-c472a9c8-6cc8-4737-ab55-96e4f5622a41 button.colab-df-convert');\n",
              "        buttonEl.style.display =\n",
              "          google.colab.kernel.accessAllowed ? 'block' : 'none';\n",
              "\n",
              "        async function convertToInteractive(key) {\n",
              "          const element = document.querySelector('#df-c472a9c8-6cc8-4737-ab55-96e4f5622a41');\n",
              "          const dataTable =\n",
              "            await google.colab.kernel.invokeFunction('convertToInteractive',\n",
              "                                                     [key], {});\n",
              "          if (!dataTable) return;\n",
              "\n",
              "          const docLinkHtml = 'Like what you see? Visit the ' +\n",
              "            '<a target=\"_blank\" href=https://colab.research.google.com/notebooks/data_table.ipynb>data table notebook</a>'\n",
              "            + ' to learn more about interactive tables.';\n",
              "          element.innerHTML = '';\n",
              "          dataTable['output_type'] = 'display_data';\n",
              "          await google.colab.output.renderOutput(dataTable, element);\n",
              "          const docLink = document.createElement('div');\n",
              "          docLink.innerHTML = docLinkHtml;\n",
              "          element.appendChild(docLink);\n",
              "        }\n",
              "      </script>\n",
              "    </div>\n",
              "  </div>\n",
              "  "
            ]
          },
          "metadata": {},
          "execution_count": 86
        }
      ]
    },
    {
      "cell_type": "code",
      "source": [],
      "metadata": {
        "id": "0IMGlDysHng3"
      },
      "execution_count": null,
      "outputs": []
    }
  ]
}