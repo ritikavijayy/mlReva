{
  "nbformat": 4,
  "nbformat_minor": 0,
  "metadata": {
    "colab": {
      "name": "Numpy.ipynb",
      "provenance": [],
      "collapsed_sections": [],
      "include_colab_link": true
    },
    "kernelspec": {
      "name": "python3",
      "display_name": "Python 3"
    },
    "language_info": {
      "name": "python"
    },
    "accelerator": "TPU",
    "gpuClass": "standard"
  },
  "cells": [
    {
      "cell_type": "markdown",
      "metadata": {
        "id": "view-in-github",
        "colab_type": "text"
      },
      "source": [
        "<a href=\"https://colab.research.google.com/github/ritikavijayy/mlReva/blob/main/Numpy.ipynb\" target=\"_parent\"><img src=\"https://colab.research.google.com/assets/colab-badge.svg\" alt=\"Open In Colab\"/></a>"
      ]
    },
    {
      "cell_type": "code",
      "execution_count": 1,
      "metadata": {
        "colab": {
          "base_uri": "https://localhost:8080/"
        },
        "id": "UEF-wkTlSrY7",
        "outputId": "9dba6f2f-8b42-424a-8b1e-874ac22d3238"
      },
      "outputs": [
        {
          "metadata": {
            "tags": null
          },
          "name": "stdout",
          "output_type": "stream",
          "text": [
            "0.9441188417498745\n"
          ]
        }
      ],
      "source": [
        "import random \n",
        "number=random.random()\n",
        "print(number)"
      ]
    },
    {
      "cell_type": "code",
      "source": [
        "import random \n",
        "number=random.randint(1,10)\n",
        "\n",
        "\n",
        "print(number)\n"
      ],
      "metadata": {
        "colab": {
          "base_uri": "https://localhost:8080/"
        },
        "id": "AagvmhePS64S",
        "outputId": "deda951b-35d0-460f-d03e-0a750c70e300"
      },
      "execution_count": 2,
      "outputs": [
        {
          "metadata": {
            "tags": null
          },
          "name": "stdout",
          "output_type": "stream",
          "text": [
            "8\n"
          ]
        }
      ]
    },
    {
      "cell_type": "markdown",
      "source": [
        "import numpy \n"
      ],
      "metadata": {
        "id": "gXCbGLS9vYhG"
      }
    },
    {
      "cell_type": "code",
      "source": [
        "import numpy as np \n"
      ],
      "metadata": {
        "id": "FQUwctiuvrIu"
      },
      "execution_count": 3,
      "outputs": []
    },
    {
      "cell_type": "code",
      "source": [
        "a=np.array([0,1,2,3])"
      ],
      "metadata": {
        "id": "mZUWpSOkv3hT"
      },
      "execution_count": 4,
      "outputs": []
    },
    {
      "cell_type": "code",
      "source": [
        "b=np.array([1,3,4,6])\n",
        "b"
      ],
      "metadata": {
        "colab": {
          "base_uri": "https://localhost:8080/"
        },
        "id": "ztDN8Sa6wFBE",
        "outputId": "e4f96487-2829-4f86-857a-95c98f2e3bb1"
      },
      "execution_count": 5,
      "outputs": [
        {
          "data": {
            "text/plain": [
              "array([1, 3, 4, 6])"
            ]
          },
          "execution_count": 5,
          "metadata": {},
          "output_type": "execute_result"
        }
      ]
    },
    {
      "cell_type": "code",
      "source": [
        "a*b"
      ],
      "metadata": {
        "colab": {
          "base_uri": "https://localhost:8080/"
        },
        "id": "KYvhxib_wPmX",
        "outputId": "e1bc1922-9803-4a04-ae9a-275f44d0d000"
      },
      "execution_count": 6,
      "outputs": [
        {
          "data": {
            "text/plain": [
              "array([ 0,  3,  8, 18])"
            ]
          },
          "execution_count": 6,
          "metadata": {},
          "output_type": "execute_result"
        }
      ]
    },
    {
      "cell_type": "code",
      "source": [
        "c=np.array([[0,1,2,3],[10,11,12,13]])\n",
        "c"
      ],
      "metadata": {
        "colab": {
          "base_uri": "https://localhost:8080/"
        },
        "id": "413Srp5ZwY8Y",
        "outputId": "e231e55e-1151-4ddd-a276-55b8ee6db1eb"
      },
      "execution_count": 7,
      "outputs": [
        {
          "data": {
            "text/plain": [
              "array([[ 0,  1,  2,  3],\n",
              "       [10, 11, 12, 13]])"
            ]
          },
          "execution_count": 7,
          "metadata": {},
          "output_type": "execute_result"
        }
      ]
    },
    {
      "cell_type": "code",
      "source": [
        "c.shape"
      ],
      "metadata": {
        "colab": {
          "base_uri": "https://localhost:8080/"
        },
        "id": "y9cN9YEkxKM8",
        "outputId": "d1f2e8e2-f1fa-4387-a638-8c14960099d7"
      },
      "execution_count": 8,
      "outputs": [
        {
          "data": {
            "text/plain": [
              "(2, 4)"
            ]
          },
          "execution_count": 8,
          "metadata": {},
          "output_type": "execute_result"
        }
      ]
    },
    {
      "cell_type": "code",
      "source": [
        "c[1,3]=-1\n",
        "c"
      ],
      "metadata": {
        "colab": {
          "base_uri": "https://localhost:8080/"
        },
        "id": "iKtkCervyXVq",
        "outputId": "ae1e98e4-b3b5-4768-fd73-34a0991eb0d1"
      },
      "execution_count": 9,
      "outputs": [
        {
          "data": {
            "text/plain": [
              "array([[ 0,  1,  2,  3],\n",
              "       [10, 11, 12, -1]])"
            ]
          },
          "execution_count": 9,
          "metadata": {},
          "output_type": "execute_result"
        }
      ]
    },
    {
      "cell_type": "code",
      "source": [
        "a[1:3] #slicing "
      ],
      "metadata": {
        "id": "H70QHC9tydli",
        "colab": {
          "base_uri": "https://localhost:8080/"
        },
        "outputId": "45ce59f0-2961-42d1-d114-efb47821cdba"
      },
      "execution_count": 10,
      "outputs": [
        {
          "data": {
            "text/plain": [
              "array([1, 2])"
            ]
          },
          "execution_count": 10,
          "metadata": {},
          "output_type": "execute_result"
        }
      ]
    },
    {
      "cell_type": "code",
      "source": [
        "a[-1:3]\n",
        "a"
      ],
      "metadata": {
        "colab": {
          "base_uri": "https://localhost:8080/"
        },
        "id": "oBiemHJ3zoKa",
        "outputId": "04a62684-7635-4569-d2b4-097846bba67a"
      },
      "execution_count": 11,
      "outputs": [
        {
          "data": {
            "text/plain": [
              "array([0, 1, 2, 3])"
            ]
          },
          "execution_count": 11,
          "metadata": {},
          "output_type": "execute_result"
        }
      ]
    },
    {
      "cell_type": "code",
      "source": [
        "import numpy as np\n",
        "arr=np.array([1,2,3,4,5,6,7,8,9,10,11,12])\n",
        "newarr=arr.reshape(4,3)\n",
        "print(newarr)"
      ],
      "metadata": {
        "colab": {
          "base_uri": "https://localhost:8080/"
        },
        "id": "9Pncvfl50eD2",
        "outputId": "8d0231e8-6d2d-49fd-ea2b-50f03fc1602a"
      },
      "execution_count": 12,
      "outputs": [
        {
          "metadata": {
            "tags": null
          },
          "name": "stdout",
          "output_type": "stream",
          "text": [
            "[[ 1  2  3]\n",
            " [ 4  5  6]\n",
            " [ 7  8  9]\n",
            " [10 11 12]]\n"
          ]
        }
      ]
    },
    {
      "cell_type": "code",
      "source": [
        "newarr=arr.reshape(3,4)\n",
        "print(newarr)"
      ],
      "metadata": {
        "colab": {
          "base_uri": "https://localhost:8080/"
        },
        "id": "VMtPVPeG2Eb6",
        "outputId": "59bafdb7-eb2f-4c62-af56-a38dcc6a42d7"
      },
      "execution_count": 13,
      "outputs": [
        {
          "metadata": {
            "tags": null
          },
          "name": "stdout",
          "output_type": "stream",
          "text": [
            "[[ 1  2  3  4]\n",
            " [ 5  6  7  8]\n",
            " [ 9 10 11 12]]\n"
          ]
        }
      ]
    },
    {
      "cell_type": "code",
      "source": [
        "c=np.arange(216).reshape(6,6,6) #generate numbers till 24-arange\n",
        "c"
      ],
      "metadata": {
        "colab": {
          "base_uri": "https://localhost:8080/"
        },
        "id": "JpOooKWq3hWS",
        "outputId": "2d5f32f9-f923-4c50-c1e5-b4b31c4a6405"
      },
      "execution_count": 14,
      "outputs": [
        {
          "data": {
            "text/plain": [
              "array([[[  0,   1,   2,   3,   4,   5],\n",
              "        [  6,   7,   8,   9,  10,  11],\n",
              "        [ 12,  13,  14,  15,  16,  17],\n",
              "        [ 18,  19,  20,  21,  22,  23],\n",
              "        [ 24,  25,  26,  27,  28,  29],\n",
              "        [ 30,  31,  32,  33,  34,  35]],\n",
              "\n",
              "       [[ 36,  37,  38,  39,  40,  41],\n",
              "        [ 42,  43,  44,  45,  46,  47],\n",
              "        [ 48,  49,  50,  51,  52,  53],\n",
              "        [ 54,  55,  56,  57,  58,  59],\n",
              "        [ 60,  61,  62,  63,  64,  65],\n",
              "        [ 66,  67,  68,  69,  70,  71]],\n",
              "\n",
              "       [[ 72,  73,  74,  75,  76,  77],\n",
              "        [ 78,  79,  80,  81,  82,  83],\n",
              "        [ 84,  85,  86,  87,  88,  89],\n",
              "        [ 90,  91,  92,  93,  94,  95],\n",
              "        [ 96,  97,  98,  99, 100, 101],\n",
              "        [102, 103, 104, 105, 106, 107]],\n",
              "\n",
              "       [[108, 109, 110, 111, 112, 113],\n",
              "        [114, 115, 116, 117, 118, 119],\n",
              "        [120, 121, 122, 123, 124, 125],\n",
              "        [126, 127, 128, 129, 130, 131],\n",
              "        [132, 133, 134, 135, 136, 137],\n",
              "        [138, 139, 140, 141, 142, 143]],\n",
              "\n",
              "       [[144, 145, 146, 147, 148, 149],\n",
              "        [150, 151, 152, 153, 154, 155],\n",
              "        [156, 157, 158, 159, 160, 161],\n",
              "        [162, 163, 164, 165, 166, 167],\n",
              "        [168, 169, 170, 171, 172, 173],\n",
              "        [174, 175, 176, 177, 178, 179]],\n",
              "\n",
              "       [[180, 181, 182, 183, 184, 185],\n",
              "        [186, 187, 188, 189, 190, 191],\n",
              "        [192, 193, 194, 195, 196, 197],\n",
              "        [198, 199, 200, 201, 202, 203],\n",
              "        [204, 205, 206, 207, 208, 209],\n",
              "        [210, 211, 212, 213, 214, 215]]])"
            ]
          },
          "execution_count": 14,
          "metadata": {},
          "output_type": "execute_result"
        }
      ]
    },
    {
      "cell_type": "code",
      "source": [
        "c=np.arange(0,125,5).reshape(5,5)\n",
        "c"
      ],
      "metadata": {
        "colab": {
          "base_uri": "https://localhost:8080/"
        },
        "id": "aVH5iftM5YqX",
        "outputId": "9d7ed67f-32a7-4c1b-dd87-ae5ca5cb46b1"
      },
      "execution_count": 15,
      "outputs": [
        {
          "data": {
            "text/plain": [
              "array([[  0,   5,  10,  15,  20],\n",
              "       [ 25,  30,  35,  40,  45],\n",
              "       [ 50,  55,  60,  65,  70],\n",
              "       [ 75,  80,  85,  90,  95],\n",
              "       [100, 105, 110, 115, 120]])"
            ]
          },
          "execution_count": 15,
          "metadata": {},
          "output_type": "execute_result"
        }
      ]
    },
    {
      "cell_type": "code",
      "source": [
        "c[0,3:5]\n",
        "c"
      ],
      "metadata": {
        "colab": {
          "base_uri": "https://localhost:8080/"
        },
        "id": "R_1VSS_U3sn5",
        "outputId": "25fd91b1-a42e-4801-eb24-1e755fd46f77"
      },
      "execution_count": 16,
      "outputs": [
        {
          "data": {
            "text/plain": [
              "array([[  0,   5,  10,  15,  20],\n",
              "       [ 25,  30,  35,  40,  45],\n",
              "       [ 50,  55,  60,  65,  70],\n",
              "       [ 75,  80,  85,  90,  95],\n",
              "       [100, 105, 110, 115, 120]])"
            ]
          },
          "execution_count": 16,
          "metadata": {},
          "output_type": "execute_result"
        }
      ]
    },
    {
      "cell_type": "code",
      "source": [
        "c[2][:2]\n",
        "c[3,:]\n",
        "c[:,2].reshape(5,1)"
      ],
      "metadata": {
        "colab": {
          "base_uri": "https://localhost:8080/"
        },
        "id": "nMaJXWxk7ms7",
        "outputId": "4c6dabc9-c983-4f9f-85e3-5e720c79f716"
      },
      "execution_count": 17,
      "outputs": [
        {
          "data": {
            "text/plain": [
              "array([[ 10],\n",
              "       [ 35],\n",
              "       [ 60],\n",
              "       [ 85],\n",
              "       [110]])"
            ]
          },
          "execution_count": 17,
          "metadata": {},
          "output_type": "execute_result"
        }
      ]
    },
    {
      "cell_type": "code",
      "source": [
        "c[2,2:3]\n",
        "c"
      ],
      "metadata": {
        "colab": {
          "base_uri": "https://localhost:8080/"
        },
        "id": "tKjJ120A72K_",
        "outputId": "bc52fadd-4b1a-4501-afc8-7bb074771c64"
      },
      "execution_count": 18,
      "outputs": [
        {
          "data": {
            "text/plain": [
              "array([[  0,   5,  10,  15,  20],\n",
              "       [ 25,  30,  35,  40,  45],\n",
              "       [ 50,  55,  60,  65,  70],\n",
              "       [ 75,  80,  85,  90,  95],\n",
              "       [100, 105, 110, 115, 120]])"
            ]
          },
          "execution_count": 18,
          "metadata": {},
          "output_type": "execute_result"
        }
      ]
    },
    {
      "cell_type": "code",
      "source": [
        "c[2,:]"
      ],
      "metadata": {
        "colab": {
          "base_uri": "https://localhost:8080/"
        },
        "id": "b3HmRpZm-Gqr",
        "outputId": "21773690-d48b-40ef-ca22-506deadf158e"
      },
      "execution_count": 19,
      "outputs": [
        {
          "data": {
            "text/plain": [
              "array([50, 55, 60, 65, 70])"
            ]
          },
          "execution_count": 19,
          "metadata": {},
          "output_type": "execute_result"
        }
      ]
    },
    {
      "cell_type": "code",
      "source": [
        "c[:,2]#.reshape(5,1)"
      ],
      "metadata": {
        "colab": {
          "base_uri": "https://localhost:8080/"
        },
        "id": "wEENcpVz-JHd",
        "outputId": "08dd9853-7136-427b-a93c-d1b0c5a6a782"
      },
      "execution_count": 20,
      "outputs": [
        {
          "data": {
            "text/plain": [
              "array([ 10,  35,  60,  85, 110])"
            ]
          },
          "execution_count": 20,
          "metadata": {},
          "output_type": "execute_result"
        }
      ]
    },
    {
      "cell_type": "code",
      "source": [
        "c"
      ],
      "metadata": {
        "colab": {
          "base_uri": "https://localhost:8080/"
        },
        "id": "-zxBHOgi-LyI",
        "outputId": "59d1c1db-6c55-4cef-d073-fa7d4f8f6a79"
      },
      "execution_count": 21,
      "outputs": [
        {
          "data": {
            "text/plain": [
              "array([[  0,   5,  10,  15,  20],\n",
              "       [ 25,  30,  35,  40,  45],\n",
              "       [ 50,  55,  60,  65,  70],\n",
              "       [ 75,  80,  85,  90,  95],\n",
              "       [100, 105, 110, 115, 120]])"
            ]
          },
          "execution_count": 21,
          "metadata": {},
          "output_type": "execute_result"
        }
      ]
    },
    {
      "cell_type": "code",
      "source": [
        "d=np.arange(-15,15).reshape(5,6)**6\n",
        "d"
      ],
      "metadata": {
        "colab": {
          "base_uri": "https://localhost:8080/"
        },
        "id": "3X7i4-ps-RWC",
        "outputId": "c1dfff23-cadd-4668-c289-83e98bbd0e01"
      },
      "execution_count": 22,
      "outputs": [
        {
          "data": {
            "text/plain": [
              "array([[11390625,  7529536,  4826809,  2985984,  1771561,  1000000],\n",
              "       [  531441,   262144,   117649,    46656,    15625,     4096],\n",
              "       [     729,       64,        1,        0,        1,       64],\n",
              "       [     729,     4096,    15625,    46656,   117649,   262144],\n",
              "       [  531441,  1000000,  1771561,  2985984,  4826809,  7529536]])"
            ]
          },
          "execution_count": 22,
          "metadata": {},
          "output_type": "execute_result"
        }
      ]
    },
    {
      "cell_type": "code",
      "source": [
        "import numpy as np \n",
        "\n",
        "np.linspace(0,1,5)"
      ],
      "metadata": {
        "id": "ifIyaGAOCvTf",
        "colab": {
          "base_uri": "https://localhost:8080/"
        },
        "outputId": "c8b6a970-db87-4ba7-d4f9-5926a9a8c072"
      },
      "execution_count": 23,
      "outputs": [
        {
          "output_type": "execute_result",
          "data": {
            "text/plain": [
              "array([0.  , 0.25, 0.5 , 0.75, 1.  ])"
            ]
          },
          "metadata": {},
          "execution_count": 23
        }
      ]
    },
    {
      "cell_type": "code",
      "source": [],
      "metadata": {
        "id": "DYHNPq_Fxs-H"
      },
      "execution_count": null,
      "outputs": []
    }
  ]
}